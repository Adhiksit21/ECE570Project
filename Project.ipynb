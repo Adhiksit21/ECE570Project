{
  "nbformat": 4,
  "nbformat_minor": 0,
  "metadata": {
    "colab": {
      "provenance": []
    },
    "kernelspec": {
      "name": "python3",
      "display_name": "Python 3"
    },
    "language_info": {
      "name": "python"
    }
  },
  "cells": [
    {
      "cell_type": "code",
      "source": [
        "#Setting up the environment. Reinstalling numpy to fix module attribution errors\n",
        "!pip install tensorflow>=1.15 numpy==1.23.5 pandas>=0.24 absl-py\n",
        "!pip install scikit-learn==1.0.2\n",
        "!pip uninstall -y numpy\n",
        "!pip install numpy==1.23.5"
      ],
      "metadata": {
        "colab": {
          "base_uri": "https://localhost:8080/",
          "height": 862
        },
        "id": "XiJPjcmcdfyZ",
        "outputId": "6b965239-aee2-4fe0-defd-8dc9ee9ab955"
      },
      "execution_count": 2,
      "outputs": [
        {
          "output_type": "stream",
          "name": "stdout",
          "text": [
            "\u001b[31mERROR: pip's dependency resolver does not currently take into account all the packages that are installed. This behaviour is the source of the following dependency conflicts.\n",
            "albucore 0.0.19 requires numpy>=1.24.4, but you have numpy 1.23.5 which is incompatible.\n",
            "albumentations 1.4.20 requires numpy>=1.24.4, but you have numpy 1.23.5 which is incompatible.\n",
            "bigframes 1.25.0 requires numpy>=1.24.0, but you have numpy 1.23.5 which is incompatible.\n",
            "chex 0.1.87 requires numpy>=1.24.1, but you have numpy 1.23.5 which is incompatible.\n",
            "jax 0.4.33 requires numpy>=1.24, but you have numpy 1.23.5 which is incompatible.\n",
            "jaxlib 0.4.33 requires numpy>=1.24, but you have numpy 1.23.5 which is incompatible.\n",
            "xarray 2024.10.0 requires numpy>=1.24, but you have numpy 1.23.5 which is incompatible.\u001b[0m\u001b[31m\n",
            "\u001b[0mCollecting scikit-learn==1.0.2\n",
            "  Downloading scikit_learn-1.0.2-cp310-cp310-manylinux_2_17_x86_64.manylinux2014_x86_64.whl.metadata (10 kB)\n",
            "Requirement already satisfied: numpy>=1.14.6 in /usr/local/lib/python3.10/dist-packages (from scikit-learn==1.0.2) (1.23.5)\n",
            "Requirement already satisfied: scipy>=1.1.0 in /usr/local/lib/python3.10/dist-packages (from scikit-learn==1.0.2) (1.13.1)\n",
            "Requirement already satisfied: joblib>=0.11 in /usr/local/lib/python3.10/dist-packages (from scikit-learn==1.0.2) (1.4.2)\n",
            "Requirement already satisfied: threadpoolctl>=2.0.0 in /usr/local/lib/python3.10/dist-packages (from scikit-learn==1.0.2) (3.5.0)\n",
            "Downloading scikit_learn-1.0.2-cp310-cp310-manylinux_2_17_x86_64.manylinux2014_x86_64.whl (26.5 MB)\n",
            "\u001b[2K   \u001b[90m━━━━━━━━━━━━━━━━━━━━━━━━━━━━━━━━━━━━━━━━\u001b[0m \u001b[32m26.5/26.5 MB\u001b[0m \u001b[31m38.5 MB/s\u001b[0m eta \u001b[36m0:00:00\u001b[0m\n",
            "\u001b[?25hInstalling collected packages: scikit-learn\n",
            "  Attempting uninstall: scikit-learn\n",
            "    Found existing installation: scikit-learn 1.5.2\n",
            "    Uninstalling scikit-learn-1.5.2:\n",
            "      Successfully uninstalled scikit-learn-1.5.2\n",
            "\u001b[31mERROR: pip's dependency resolver does not currently take into account all the packages that are installed. This behaviour is the source of the following dependency conflicts.\n",
            "bigframes 1.25.0 requires numpy>=1.24.0, but you have numpy 1.23.5 which is incompatible.\n",
            "bigframes 1.25.0 requires scikit-learn>=1.2.2, but you have scikit-learn 1.0.2 which is incompatible.\u001b[0m\u001b[31m\n",
            "\u001b[0mSuccessfully installed scikit-learn-1.0.2\n",
            "Found existing installation: numpy 1.23.5\n",
            "Uninstalling numpy-1.23.5:\n",
            "  Successfully uninstalled numpy-1.23.5\n",
            "Collecting numpy==1.23.5\n",
            "  Using cached numpy-1.23.5-cp310-cp310-manylinux_2_17_x86_64.manylinux2014_x86_64.whl.metadata (2.3 kB)\n",
            "Using cached numpy-1.23.5-cp310-cp310-manylinux_2_17_x86_64.manylinux2014_x86_64.whl (17.1 MB)\n",
            "Installing collected packages: numpy\n",
            "\u001b[31mERROR: pip's dependency resolver does not currently take into account all the packages that are installed. This behaviour is the source of the following dependency conflicts.\n",
            "albucore 0.0.19 requires numpy>=1.24.4, but you have numpy 1.23.5 which is incompatible.\n",
            "albumentations 1.4.20 requires numpy>=1.24.4, but you have numpy 1.23.5 which is incompatible.\n",
            "bigframes 1.25.0 requires numpy>=1.24.0, but you have numpy 1.23.5 which is incompatible.\n",
            "bigframes 1.25.0 requires scikit-learn>=1.2.2, but you have scikit-learn 1.0.2 which is incompatible.\n",
            "chex 0.1.87 requires numpy>=1.24.1, but you have numpy 1.23.5 which is incompatible.\n",
            "jax 0.4.33 requires numpy>=1.24, but you have numpy 1.23.5 which is incompatible.\n",
            "jaxlib 0.4.33 requires numpy>=1.24, but you have numpy 1.23.5 which is incompatible.\n",
            "xarray 2024.10.0 requires numpy>=1.24, but you have numpy 1.23.5 which is incompatible.\u001b[0m\u001b[31m\n",
            "\u001b[0mSuccessfully installed numpy-1.23.5\n"
          ]
        },
        {
          "output_type": "display_data",
          "data": {
            "application/vnd.colab-display-data+json": {
              "pip_warning": {
                "packages": [
                  "numpy"
                ]
              },
              "id": "41ef225a647944b7bdaa950e538480ee"
            }
          },
          "metadata": {}
        }
      ]
    },
    {
      "cell_type": "code",
      "execution_count": 1,
      "metadata": {
        "colab": {
          "base_uri": "https://localhost:8080/"
        },
        "id": "1SEbsAdpdCHU",
        "outputId": "9a903b23-1fce-434a-de7c-2d49546130d6"
      },
      "outputs": [
        {
          "output_type": "stream",
          "name": "stdout",
          "text": [
            "Cloning into 'google-research'...\n",
            "remote: Enumerating objects: 19326, done.\u001b[K\n",
            "remote: Total 19326 (delta 0), reused 0 (delta 0), pack-reused 19326 (from 1)\u001b[K\n",
            "Receiving objects: 100% (19326/19326), 239.78 MiB | 15.26 MiB/s, done.\n",
            "Resolving deltas: 100% (9279/9279), done.\n",
            "Updating files: 100% (7065/7065), done.\n"
          ]
        }
      ],
      "source": [
        "!git clone https://github.com/agarwl/google-research.git"
      ]
    },
    {
      "cell_type": "code",
      "source": [
        "%cd google-research/neural_additive_models"
      ],
      "metadata": {
        "colab": {
          "base_uri": "https://localhost:8080/"
        },
        "id": "h72OkDogdLEK",
        "outputId": "0bce2880-ddb1-4ab0-8eb8-b864f0479672"
      },
      "execution_count": 2,
      "outputs": [
        {
          "output_type": "stream",
          "name": "stdout",
          "text": [
            "/content/google-research/neural_additive_models\n"
          ]
        }
      ]
    },
    {
      "cell_type": "code",
      "source": [
        "!sed -i 's/sklearn/scikit-learn/g' setup.py"
      ],
      "metadata": {
        "id": "cB30yZzFdRV6"
      },
      "execution_count": 3,
      "outputs": []
    },
    {
      "cell_type": "code",
      "source": [
        "!pip install -e ."
      ],
      "metadata": {
        "id": "bEPbOPJ8dTyr",
        "outputId": "e5ec5fc2-c6cf-4f02-aad7-da0e6c15362d",
        "colab": {
          "base_uri": "https://localhost:8080/"
        }
      },
      "execution_count": 4,
      "outputs": [
        {
          "output_type": "stream",
          "name": "stdout",
          "text": [
            "Obtaining file:///content/google-research/neural_additive_models\n",
            "  Preparing metadata (setup.py) ... \u001b[?25l\u001b[?25hdone\n",
            "Requirement already satisfied: tensorflow>=1.15 in /usr/local/lib/python3.10/dist-packages (from neural_additive_models==0.1) (2.17.0)\n",
            "Requirement already satisfied: numpy>=1.15.2 in /usr/local/lib/python3.10/dist-packages (from neural_additive_models==0.1) (1.23.5)\n",
            "Requirement already satisfied: scikit-learn in /usr/local/lib/python3.10/dist-packages (from neural_additive_models==0.1) (1.0.2)\n",
            "Requirement already satisfied: pandas>=0.24 in /usr/local/lib/python3.10/dist-packages (from neural_additive_models==0.1) (2.2.2)\n",
            "Requirement already satisfied: absl-py in /usr/local/lib/python3.10/dist-packages (from neural_additive_models==0.1) (1.4.0)\n",
            "Requirement already satisfied: python-dateutil>=2.8.2 in /usr/local/lib/python3.10/dist-packages (from pandas>=0.24->neural_additive_models==0.1) (2.8.2)\n",
            "Requirement already satisfied: pytz>=2020.1 in /usr/local/lib/python3.10/dist-packages (from pandas>=0.24->neural_additive_models==0.1) (2024.2)\n",
            "Requirement already satisfied: tzdata>=2022.7 in /usr/local/lib/python3.10/dist-packages (from pandas>=0.24->neural_additive_models==0.1) (2024.2)\n",
            "Requirement already satisfied: astunparse>=1.6.0 in /usr/local/lib/python3.10/dist-packages (from tensorflow>=1.15->neural_additive_models==0.1) (1.6.3)\n",
            "Requirement already satisfied: flatbuffers>=24.3.25 in /usr/local/lib/python3.10/dist-packages (from tensorflow>=1.15->neural_additive_models==0.1) (24.3.25)\n",
            "Requirement already satisfied: gast!=0.5.0,!=0.5.1,!=0.5.2,>=0.2.1 in /usr/local/lib/python3.10/dist-packages (from tensorflow>=1.15->neural_additive_models==0.1) (0.6.0)\n",
            "Requirement already satisfied: google-pasta>=0.1.1 in /usr/local/lib/python3.10/dist-packages (from tensorflow>=1.15->neural_additive_models==0.1) (0.2.0)\n",
            "Requirement already satisfied: h5py>=3.10.0 in /usr/local/lib/python3.10/dist-packages (from tensorflow>=1.15->neural_additive_models==0.1) (3.12.1)\n",
            "Requirement already satisfied: libclang>=13.0.0 in /usr/local/lib/python3.10/dist-packages (from tensorflow>=1.15->neural_additive_models==0.1) (18.1.1)\n",
            "Requirement already satisfied: ml-dtypes<0.5.0,>=0.3.1 in /usr/local/lib/python3.10/dist-packages (from tensorflow>=1.15->neural_additive_models==0.1) (0.4.1)\n",
            "Requirement already satisfied: opt-einsum>=2.3.2 in /usr/local/lib/python3.10/dist-packages (from tensorflow>=1.15->neural_additive_models==0.1) (3.4.0)\n",
            "Requirement already satisfied: packaging in /usr/local/lib/python3.10/dist-packages (from tensorflow>=1.15->neural_additive_models==0.1) (24.1)\n",
            "Requirement already satisfied: protobuf!=4.21.0,!=4.21.1,!=4.21.2,!=4.21.3,!=4.21.4,!=4.21.5,<5.0.0dev,>=3.20.3 in /usr/local/lib/python3.10/dist-packages (from tensorflow>=1.15->neural_additive_models==0.1) (3.20.3)\n",
            "Requirement already satisfied: requests<3,>=2.21.0 in /usr/local/lib/python3.10/dist-packages (from tensorflow>=1.15->neural_additive_models==0.1) (2.32.3)\n",
            "Requirement already satisfied: setuptools in /usr/local/lib/python3.10/dist-packages (from tensorflow>=1.15->neural_additive_models==0.1) (75.1.0)\n",
            "Requirement already satisfied: six>=1.12.0 in /usr/local/lib/python3.10/dist-packages (from tensorflow>=1.15->neural_additive_models==0.1) (1.16.0)\n",
            "Requirement already satisfied: termcolor>=1.1.0 in /usr/local/lib/python3.10/dist-packages (from tensorflow>=1.15->neural_additive_models==0.1) (2.5.0)\n",
            "Requirement already satisfied: typing-extensions>=3.6.6 in /usr/local/lib/python3.10/dist-packages (from tensorflow>=1.15->neural_additive_models==0.1) (4.12.2)\n",
            "Requirement already satisfied: wrapt>=1.11.0 in /usr/local/lib/python3.10/dist-packages (from tensorflow>=1.15->neural_additive_models==0.1) (1.16.0)\n",
            "Requirement already satisfied: grpcio<2.0,>=1.24.3 in /usr/local/lib/python3.10/dist-packages (from tensorflow>=1.15->neural_additive_models==0.1) (1.64.1)\n",
            "Requirement already satisfied: tensorboard<2.18,>=2.17 in /usr/local/lib/python3.10/dist-packages (from tensorflow>=1.15->neural_additive_models==0.1) (2.17.0)\n",
            "Requirement already satisfied: keras>=3.2.0 in /usr/local/lib/python3.10/dist-packages (from tensorflow>=1.15->neural_additive_models==0.1) (3.4.1)\n",
            "Requirement already satisfied: tensorflow-io-gcs-filesystem>=0.23.1 in /usr/local/lib/python3.10/dist-packages (from tensorflow>=1.15->neural_additive_models==0.1) (0.37.1)\n",
            "Requirement already satisfied: scipy>=1.1.0 in /usr/local/lib/python3.10/dist-packages (from scikit-learn->neural_additive_models==0.1) (1.13.1)\n",
            "Requirement already satisfied: joblib>=0.11 in /usr/local/lib/python3.10/dist-packages (from scikit-learn->neural_additive_models==0.1) (1.4.2)\n",
            "Requirement already satisfied: threadpoolctl>=2.0.0 in /usr/local/lib/python3.10/dist-packages (from scikit-learn->neural_additive_models==0.1) (3.5.0)\n",
            "Requirement already satisfied: wheel<1.0,>=0.23.0 in /usr/local/lib/python3.10/dist-packages (from astunparse>=1.6.0->tensorflow>=1.15->neural_additive_models==0.1) (0.44.0)\n",
            "Requirement already satisfied: rich in /usr/local/lib/python3.10/dist-packages (from keras>=3.2.0->tensorflow>=1.15->neural_additive_models==0.1) (13.9.3)\n",
            "Requirement already satisfied: namex in /usr/local/lib/python3.10/dist-packages (from keras>=3.2.0->tensorflow>=1.15->neural_additive_models==0.1) (0.0.8)\n",
            "Requirement already satisfied: optree in /usr/local/lib/python3.10/dist-packages (from keras>=3.2.0->tensorflow>=1.15->neural_additive_models==0.1) (0.13.0)\n",
            "Requirement already satisfied: charset-normalizer<4,>=2 in /usr/local/lib/python3.10/dist-packages (from requests<3,>=2.21.0->tensorflow>=1.15->neural_additive_models==0.1) (3.4.0)\n",
            "Requirement already satisfied: idna<4,>=2.5 in /usr/local/lib/python3.10/dist-packages (from requests<3,>=2.21.0->tensorflow>=1.15->neural_additive_models==0.1) (3.10)\n",
            "Requirement already satisfied: urllib3<3,>=1.21.1 in /usr/local/lib/python3.10/dist-packages (from requests<3,>=2.21.0->tensorflow>=1.15->neural_additive_models==0.1) (2.2.3)\n",
            "Requirement already satisfied: certifi>=2017.4.17 in /usr/local/lib/python3.10/dist-packages (from requests<3,>=2.21.0->tensorflow>=1.15->neural_additive_models==0.1) (2024.8.30)\n",
            "Requirement already satisfied: markdown>=2.6.8 in /usr/local/lib/python3.10/dist-packages (from tensorboard<2.18,>=2.17->tensorflow>=1.15->neural_additive_models==0.1) (3.7)\n",
            "Requirement already satisfied: tensorboard-data-server<0.8.0,>=0.7.0 in /usr/local/lib/python3.10/dist-packages (from tensorboard<2.18,>=2.17->tensorflow>=1.15->neural_additive_models==0.1) (0.7.2)\n",
            "Requirement already satisfied: werkzeug>=1.0.1 in /usr/local/lib/python3.10/dist-packages (from tensorboard<2.18,>=2.17->tensorflow>=1.15->neural_additive_models==0.1) (3.0.6)\n",
            "Requirement already satisfied: MarkupSafe>=2.1.1 in /usr/local/lib/python3.10/dist-packages (from werkzeug>=1.0.1->tensorboard<2.18,>=2.17->tensorflow>=1.15->neural_additive_models==0.1) (3.0.2)\n",
            "Requirement already satisfied: markdown-it-py>=2.2.0 in /usr/local/lib/python3.10/dist-packages (from rich->keras>=3.2.0->tensorflow>=1.15->neural_additive_models==0.1) (3.0.0)\n",
            "Requirement already satisfied: pygments<3.0.0,>=2.13.0 in /usr/local/lib/python3.10/dist-packages (from rich->keras>=3.2.0->tensorflow>=1.15->neural_additive_models==0.1) (2.18.0)\n",
            "Requirement already satisfied: mdurl~=0.1 in /usr/local/lib/python3.10/dist-packages (from markdown-it-py>=2.2.0->rich->keras>=3.2.0->tensorflow>=1.15->neural_additive_models==0.1) (0.1.2)\n",
            "Installing collected packages: neural_additive_models\n",
            "  Running setup.py develop for neural_additive_models\n",
            "Successfully installed neural_additive_models-0.1\n"
          ]
        }
      ]
    },
    {
      "cell_type": "code",
      "source": [
        "#Upload either the housing data or archive (Cement-tensile strenght data)\n",
        "from google.colab import files\n",
        "files.upload()"
      ],
      "metadata": {
        "colab": {
          "base_uri": "https://localhost:8080/",
          "height": 1000
        },
        "id": "tjRgxm8om-6Z",
        "outputId": "753926b8-2010-4562-a726-e52ad01a64cf"
      },
      "execution_count": 5,
      "outputs": [
        {
          "output_type": "display_data",
          "data": {
            "text/plain": [
              "<IPython.core.display.HTML object>"
            ],
            "text/html": [
              "\n",
              "     <input type=\"file\" id=\"files-13028b57-6b44-4fe1-bfd7-19d5f97af6fa\" name=\"files[]\" multiple disabled\n",
              "        style=\"border:none\" />\n",
              "     <output id=\"result-13028b57-6b44-4fe1-bfd7-19d5f97af6fa\">\n",
              "      Upload widget is only available when the cell has been executed in the\n",
              "      current browser session. Please rerun this cell to enable.\n",
              "      </output>\n",
              "      <script>// Copyright 2017 Google LLC\n",
              "//\n",
              "// Licensed under the Apache License, Version 2.0 (the \"License\");\n",
              "// you may not use this file except in compliance with the License.\n",
              "// You may obtain a copy of the License at\n",
              "//\n",
              "//      http://www.apache.org/licenses/LICENSE-2.0\n",
              "//\n",
              "// Unless required by applicable law or agreed to in writing, software\n",
              "// distributed under the License is distributed on an \"AS IS\" BASIS,\n",
              "// WITHOUT WARRANTIES OR CONDITIONS OF ANY KIND, either express or implied.\n",
              "// See the License for the specific language governing permissions and\n",
              "// limitations under the License.\n",
              "\n",
              "/**\n",
              " * @fileoverview Helpers for google.colab Python module.\n",
              " */\n",
              "(function(scope) {\n",
              "function span(text, styleAttributes = {}) {\n",
              "  const element = document.createElement('span');\n",
              "  element.textContent = text;\n",
              "  for (const key of Object.keys(styleAttributes)) {\n",
              "    element.style[key] = styleAttributes[key];\n",
              "  }\n",
              "  return element;\n",
              "}\n",
              "\n",
              "// Max number of bytes which will be uploaded at a time.\n",
              "const MAX_PAYLOAD_SIZE = 100 * 1024;\n",
              "\n",
              "function _uploadFiles(inputId, outputId) {\n",
              "  const steps = uploadFilesStep(inputId, outputId);\n",
              "  const outputElement = document.getElementById(outputId);\n",
              "  // Cache steps on the outputElement to make it available for the next call\n",
              "  // to uploadFilesContinue from Python.\n",
              "  outputElement.steps = steps;\n",
              "\n",
              "  return _uploadFilesContinue(outputId);\n",
              "}\n",
              "\n",
              "// This is roughly an async generator (not supported in the browser yet),\n",
              "// where there are multiple asynchronous steps and the Python side is going\n",
              "// to poll for completion of each step.\n",
              "// This uses a Promise to block the python side on completion of each step,\n",
              "// then passes the result of the previous step as the input to the next step.\n",
              "function _uploadFilesContinue(outputId) {\n",
              "  const outputElement = document.getElementById(outputId);\n",
              "  const steps = outputElement.steps;\n",
              "\n",
              "  const next = steps.next(outputElement.lastPromiseValue);\n",
              "  return Promise.resolve(next.value.promise).then((value) => {\n",
              "    // Cache the last promise value to make it available to the next\n",
              "    // step of the generator.\n",
              "    outputElement.lastPromiseValue = value;\n",
              "    return next.value.response;\n",
              "  });\n",
              "}\n",
              "\n",
              "/**\n",
              " * Generator function which is called between each async step of the upload\n",
              " * process.\n",
              " * @param {string} inputId Element ID of the input file picker element.\n",
              " * @param {string} outputId Element ID of the output display.\n",
              " * @return {!Iterable<!Object>} Iterable of next steps.\n",
              " */\n",
              "function* uploadFilesStep(inputId, outputId) {\n",
              "  const inputElement = document.getElementById(inputId);\n",
              "  inputElement.disabled = false;\n",
              "\n",
              "  const outputElement = document.getElementById(outputId);\n",
              "  outputElement.innerHTML = '';\n",
              "\n",
              "  const pickedPromise = new Promise((resolve) => {\n",
              "    inputElement.addEventListener('change', (e) => {\n",
              "      resolve(e.target.files);\n",
              "    });\n",
              "  });\n",
              "\n",
              "  const cancel = document.createElement('button');\n",
              "  inputElement.parentElement.appendChild(cancel);\n",
              "  cancel.textContent = 'Cancel upload';\n",
              "  const cancelPromise = new Promise((resolve) => {\n",
              "    cancel.onclick = () => {\n",
              "      resolve(null);\n",
              "    };\n",
              "  });\n",
              "\n",
              "  // Wait for the user to pick the files.\n",
              "  const files = yield {\n",
              "    promise: Promise.race([pickedPromise, cancelPromise]),\n",
              "    response: {\n",
              "      action: 'starting',\n",
              "    }\n",
              "  };\n",
              "\n",
              "  cancel.remove();\n",
              "\n",
              "  // Disable the input element since further picks are not allowed.\n",
              "  inputElement.disabled = true;\n",
              "\n",
              "  if (!files) {\n",
              "    return {\n",
              "      response: {\n",
              "        action: 'complete',\n",
              "      }\n",
              "    };\n",
              "  }\n",
              "\n",
              "  for (const file of files) {\n",
              "    const li = document.createElement('li');\n",
              "    li.append(span(file.name, {fontWeight: 'bold'}));\n",
              "    li.append(span(\n",
              "        `(${file.type || 'n/a'}) - ${file.size} bytes, ` +\n",
              "        `last modified: ${\n",
              "            file.lastModifiedDate ? file.lastModifiedDate.toLocaleDateString() :\n",
              "                                    'n/a'} - `));\n",
              "    const percent = span('0% done');\n",
              "    li.appendChild(percent);\n",
              "\n",
              "    outputElement.appendChild(li);\n",
              "\n",
              "    const fileDataPromise = new Promise((resolve) => {\n",
              "      const reader = new FileReader();\n",
              "      reader.onload = (e) => {\n",
              "        resolve(e.target.result);\n",
              "      };\n",
              "      reader.readAsArrayBuffer(file);\n",
              "    });\n",
              "    // Wait for the data to be ready.\n",
              "    let fileData = yield {\n",
              "      promise: fileDataPromise,\n",
              "      response: {\n",
              "        action: 'continue',\n",
              "      }\n",
              "    };\n",
              "\n",
              "    // Use a chunked sending to avoid message size limits. See b/62115660.\n",
              "    let position = 0;\n",
              "    do {\n",
              "      const length = Math.min(fileData.byteLength - position, MAX_PAYLOAD_SIZE);\n",
              "      const chunk = new Uint8Array(fileData, position, length);\n",
              "      position += length;\n",
              "\n",
              "      const base64 = btoa(String.fromCharCode.apply(null, chunk));\n",
              "      yield {\n",
              "        response: {\n",
              "          action: 'append',\n",
              "          file: file.name,\n",
              "          data: base64,\n",
              "        },\n",
              "      };\n",
              "\n",
              "      let percentDone = fileData.byteLength === 0 ?\n",
              "          100 :\n",
              "          Math.round((position / fileData.byteLength) * 100);\n",
              "      percent.textContent = `${percentDone}% done`;\n",
              "\n",
              "    } while (position < fileData.byteLength);\n",
              "  }\n",
              "\n",
              "  // All done.\n",
              "  yield {\n",
              "    response: {\n",
              "      action: 'complete',\n",
              "    }\n",
              "  };\n",
              "}\n",
              "\n",
              "scope.google = scope.google || {};\n",
              "scope.google.colab = scope.google.colab || {};\n",
              "scope.google.colab._files = {\n",
              "  _uploadFiles,\n",
              "  _uploadFilesContinue,\n",
              "};\n",
              "})(self);\n",
              "</script> "
            ]
          },
          "metadata": {}
        },
        {
          "output_type": "stream",
          "name": "stdout",
          "text": [
            "Saving archive.zip to archive.zip\n"
          ]
        },
        {
          "output_type": "execute_result",
          "data": {
            "text/plain": [
              "{'archive.zip': b'PK\\x03\\x04-\\x00\\x00\\x00\\x08\\x00L\\x0b5O\\xf4?\\xf3\\x97\\xff\\xff\\xff\\xff\\xff\\xff\\xff\\xff\\x11\\x00\\x14\\x00concrete_data.csv\\x01\\x00\\x10\\x00\\x82\\xe6\\x00\\x00\\x00\\x00\\x00\\x00\\xa7+\\x00\\x00\\x00\\x00\\x00\\x00\\xa5}[\\x8ed9\\xae\\xe4\\xff\\x00\\xb3\\x87\\\\@\\xc1q$\\x1d\\xbdV\\xd3\\xa8)d\\xd7m\\xa0o\\xdfFU\\xdd\\x19\\xcc\\xac~D3\\xd3\\x91<\\xdc#\\xd2\\xe9\\xf9\\x93\\x8f\\x087\\x97DQ&\\x92\\xa2\\xa8\\xdf\\xbe\\xff\\xe7\\xf7\\x7f\\xfd\\xf5\\xcb\\xff\\xfa\\xe7\\xaf\\x7f\\xfe\\xf5\\xb7\\xbf\\xff\\xf7\\x1f\\xff\\xfa\\xf5\\xb7\\xef\\x7f\\xfb\\xf3\\x9f\\xbf\\xfe\\xfe\\xcb\\xdf\\xff\\xf9\\x7f\\xff\\xf6\\xeb\\x9f\\xff\\xf1\\xcb\\xff\\xf9\\xf5\\xaf\\xef\\x7f\\xfc\\xf2\\xe7\\x7f\\xff\\xfb\\xfb\\x1f\\xff\\xb6O\\xfd\\xe3\\xb7\\x7f\\xfc\\xbf\\xf1\\x83\\xdf\\xfe\\xeb\\xd7?\\xfe\\xfc\\xfe\\xb7_\\x7f\\xff\\xfd\\x8f\\xef\\xbf\\x8f\\x8f\\xfc\\xf2\\xf7\\x7f\\xfck\\xfb\\xef\\xb7_~\\xfd\\xfd\\xfb\\xf8\\xd0\\xbf~\\xfb\\xe3\\xfb_\\xdf\\xff\\xf6\\xdb\\x7f\\xfd\\xe7\\xbf\\xff\\xf8\\xfe\\xe7\\x9f\\xff\\xf8\\xdf\\xe3\\xdb\\xff\\xfa\\xe3\\xfb\\xbf~\\xff\\xeb?\\xfe\\xe7\\xff\\xc8\\xe7q;\\xbe\\xfd\\xb2\\xfe\\x08%\\xda_\\xf1\\x96\\xc7\\xbf\\x0f\\xfe\\xb6\\xd4\\x82\\x9f\\xb5o\\xbf\\xd4~\\xeb\\xfd\\xdb\\x0fq9\\x7f\\xc0\\x95pk\\x86K\\x89\\x9f8\\xf1\\x17\\x901\\xb6\\xeb[z\\xc2\\xb7\\xe4~\\xe27u\\xfc1\\x1a\\x8a\\xd5\\x8bLe|\\xe6\\x0c\\xb7#\\x0fd\\xe8\\xedV\\x06r|\\xe2\\x9c\\xbd\\xedq!k\\xb3\\x9f\\xb7\\x98\\xed\\x8bS\\xb16\\xcf[:\\x062\\x16\\x0c \\x84\\xf3\\xfa\\xf4\\x936K\\xe5\\xff\\x0cXoG\\xb2\\xce6\\xfe(\\x7f\\x85\\xbb\\xebk\\xba\\xd5\\xc3\\t4\\xb9\\xa6r;\\xb3\\xb7\\xa7\\x06<\\xf3\\xad\\x19\\xf0\\xac\\xab\\xa9W\\xda\\xeb\\xb7\\xd8\\xbd25\\xc9\\xa4\\xf1\\xad\\xd5\\x0b\\xb4\\x16\\xad;\\xd1:\\x1a\\xab\\xfd\\xe8\\xac/L?\\x15\\'\\xdd\\x8e\\x80\\x16\\xd5\\xca\\x97c\\xdc\\'1\\xde\\x12&\\xf1\\xc0\\x97Q\\x89_\\x11i\\xbd\\xb5\\xb0\\xe6\\xf0\\xd5\\xe6r\\xbcu\\xf4s\\xc8vH&\\x1e\\xfd\\xa9d\\xc6b\\xac\\xf6w;\\xca\\xadK\\xa6\\xfd\\x96\\x8a5x\\xe2ci\\xb5\\xf2y\\x8b\\xd0\\xb6\\\\n\\xe1tj\\x1b$s\\xdcr\\xf1)Mh\\x07$Z\\xbcsH\\xe0\\xa0\\x8d\\xd3-\\x1b\\xa9M\\xf4#\\xd3\\xf8\\xd7\\xed(n\\x1c;{\\xde\\xa2s\\xfe9\\x1b\\x83\\xd1\\xa2\\x0f\\x07\\x05\\xcf\\x89,\\xe5\\x99E\\xae\\x8cp\\x0b\\xd9\\xa97\\x18\\xe1\\xe8i\\xf0\\xce#X\\xa3\\xde\\xce\\xe4\\xd3\\x9b\\x8a~\\x95\\xc3\\xb9\\x0e)\\xd0|\\x8b\\xc5K\\x8as*\\xb8\\x16=,55\\xb5F\\xdf\\x109\\x17C\\xa4\\xc9\\xcbR\\xeck\\xba\\x15\\xa3\\xe2\\x980\\r\\xfa\\xeb\\x956\\x87`\\xcf\\xe0F\\xda<\\x8e\\x9f\\xb7o\\xce\\xbd\\x18LU\\xdd\\xd2\\x11\\x13\\xc7\\xe4\\xed(\\xa6c\\xec\\x8b\\xd1\\xab\\xe2 \\xe3\\xe3v\\x16\\xa7\\x86\\xdfm\\xe0\\xae\\xae\\x029\\x88\\xe6\\xd8\\x96\\xf1+\\xf3\\xcf\\xc5\\x98n\\xe1pv\\x15B\\r\\xb7|:q\\xb6\\x1a\\xb3\\xe6\\xfe\\xec\\xf7\\xdd\\xfc\\x9aNC\\xa6\\x11\\xe6!).\\xa8\\xe3V\\x8bW\\xa0\\xa3\\x9f\\xb1p\\xf1{\\x1a\\xb4\\xe1\\xc5[\\x8b^\\xd5\\xa6\\xaa\\xf5[m\\xde\\x15\\xcc!\\x0e!\\xb9\\xd5\\x1b\\xcb)\\x91\\x87=\\xcc\\x88\\xa9\\xef\\xb7\\xd0\\xdd\\x9b[5q\\xdc\\xb2\\xdb\\xec#\\xae\\x9c\\xbeu?M\\xf7\\x9e\\xbc\\xed\\rm\\xeb$S\\x8f\\\\\\xb8\\x96\\x8e[\\xcf\\xde\\xd9\\x07#&Z\\xa7\\x9e\\x16\\xb9y\\x0f\\x17\\xa3y\\xf7(\"\\xc7N\\x83A\\x86%\\xce\\'\\x92\\t\\xf6W\\x1b\\x03+\\x92L\\xab^%es\\xe3\\x1b\\xdc\\x9b)\\xd5\\xbb\\xc9\\xa7qp0\\x9b\\xcc\\xef\\xd8`\\xd3sc\\x9b\\x9e\\x89\\xac\\xd8\\xd9\\xa2{\\x11\\xc3\\xe8?n\\r\\x1bF\\xfb\\xa0\\xe1\\xe1\\\\\\xba\\x10B<\\xd8\\xd3\\x0b7\\xe6\\x07\\x8et\\xaab\\x92\\xe1X\\xcdO\\x8fo\\x0f6<\\xfb\\xb3\\x0f>\\x1b\\x7f\\xd5a\\xb2WLd:o\\'F\\x18\\x86\\xf9gt\\x177 \\xd6\\x01\\x97\\xccqB*%\\x0c\\x13\\x1a\\xc01\\x8c\\xc6\\xfd\"Sz\\xc5\\xf0\\x04\\x8e\\xbd\\xc4\\xa4U\\x007+o\\xfc\\xd5\\xaa\\xfd\\x95\\xa0\\xe3\\xe7\\xa7\\xc0`S\\x13\\xd0dO\\x85\\x83L\\xb3\\xabE\\x06*W\\x7fO\\xd6\\x13\\xe2\\xc6\\xa8lf\\x13\\x96/\\x1b\\xeccj\\xa9\\xabQ;\\xa2X#\\x8c\\xaf\\xbf\\x80-\\xa0s64\\xe1\\xea\\xf8\\x11W\\xff\\xe0O\\x8e\\xb0t\\xe2\\xea\\x12\\x8d\\xfd\\x0e,\\x1f\\xd7\\x08\\xcd\\x9d\\x01\\xd0b\\x0c?%\\x9a\\xd4(\\x01\\xfc\\\\\\xb8\\n\\xc7\\x80\\x00\\x8dp|}\\x9ds\\x81\\xbd;\\xa7p\\xb5$\\xad\\xc1t\\x8d\\xdfo\\xfd\\xecS\\xa0\\xe3\\x97\\xe9\\xe7\\xfaIQ\\xc6\\xb0\\x96E\\xc8\\xe8\\xd4X\\xd6i\\x03\\x1e61\\xd6\\xd1,\\xc9\\x1c\\xe8\\xd7X/\\xf5\\xeai\\xc5\\xd4C\\x01\\xfaP\\xb6v\\xc1\\xd9S\\x0c0\\x15L\\xaa\\xa9\\xf75\\xc4rB2\\x01\\x12;\\xf1\\x8dut\\x82Z:\\xcc\\x0c\\xeaL\\xc4\\xa0c\\x8b\\xdb\\xdcC\\x81\\xc6\\xba0>\\x1b+{\\xfc\\xbe\\xe4.Cc\\x88L\\xca\\xd6!\\x88\\xa1\\x99q\\x93\\x8d\\xb5\\x98\\xd9n\\xc2P\\xcb\\x01\\x19\\x12Y~\\xaa\\xaf\\xb1a\\x1e\\xe2X\\xdd\\xfd\\x92\\x0e>\\x1b\\xd0\\x89p\\x8c\\xdd\\xa1\\xec+#\\xceE\\xfcn\\x93g\\xa2\\x8a\\xd7\\xba\\x80M\\x04\\xcd\\x19\\xc4\\xb7\\xd4\\xa3J<\\x16+\\xa0\\xa6v:\\xac[\\x8b\\'\\x04\\x13Am\\x0f-\\x8e\\xb5\\xf1s\\xd2I\\xa9>\\xb4X\\x01\\xc4D=\\xe0\\x86l\\xa8:.f\\xac0\\xa7\\xa2\\x9f\\x19+\\xdc\\x8c7\\x98\\xb1\\xc2\\x9e\\xfa\\x9c7>eFv\\xb5\\xb9\\x99\\xd1p\\x99\\xdb\\x9b\\x8b\\x19+v\\xd4\\xe2g\\xc6\\n3\\xa5\\xff\\x94h\\\\\\xcch\\x8bC\\rz\\x98\\x91\\x02\\xfd\\xc9~\\xba\\x98\\xb1.Ju1#%\\xfa\\x063r\\x0e\\xbb\\x9f\\x199\\xc4\\xf6\\x063V\\xf8\\x86?\\xd7W\\'3\\x9aX\\x9b\\xbc\\xe1w\\x9b\\xf41\\xa3\\x01\\x8b\\x06\\xe9bF\\x03\\x8e\\x0f\\xf6w\\xba:\\xbe\\xaf\\xbb\\x99\\xb1\\x82Q\\xdf`F\\x1d\\xbf\\xb0\\xab.j4d\\xee\\xefp#\\xda<xT\\xe0#\\xc7yX\\xe4fGt\\xb6\\xbcA\\x8fhQ\\xc6\\x83\\x8f\\x1f\\x81|\\x8bxv\\xf9\\xb8\\x18\\x12\\xa3<8J\\x0fEJ:\\xe7Ov\\xd5E\\x92hs(\\x97\\x9b%5#\\xd9\\xcf\\x03\\xf2\\xac\\xde\\xb0 \\x81\\x9c\\xce\\xa3\\x8f(1\\xce\\xa8m\\xe4\\xed\\xee:\\xa9\\x122\\xaa\\xea\\xef\\xdb\\x8d\\xfa\\xc8R\\xfa~\\xf8\\xd9R\\xd2\\xfd\\xd9\\x19\\xf5\\xf0%\\x9c\\xf3.\\xa2u\\x11f\\x1e\\x9d(\\xe9\\x1d/\\x1b\\xc8\\xb7,&!?\\xf7\\xee>%\\xcc\\xbdM\\x17a\\x028\\x1d_\\x0fa\\x1a\\xb0\\xc6w\\x08\\x13M\\xf6w|\\xd8]>.\\xc24`\\x96\\x13\\xeb!L\\xe0\\xde\\x8a\\x98\\xdcu\\xd5E\\x98@\\xca\\x1aq\\x11&f$\\xbdC\\x06@\\xd6w\\x083\\x83\\x8b\\xc4z>\\xc2\\x84l\\xa7\\xca\\xbe\\xdd]\\'aJk{\\xff\\xa9F}\\x84\\td\\x98\\x99\\x1d\\x1e\\xc2\\x04\\xb2\\xbf\\x13$\\xb8\\x9bQ\\x0fabV\\xba\\xd2t\\\\\\x84\\xd9\\xc3FA.\\xc2\\x04\\xb2\\xc87u\\xad2 \\xf3;\\xee\\xb7\\xda\\xacn\\xc2\\x040\\xca\\x9e\\xf1\\x10\\xa6\\x01\\x87@q\\xf4\\xe2#L e\\xee\\xbd/\\x1f\\x17a\\x1ap\\xfc\\xb6x\\t\\x13\\xb8\\xaf\\xe2!\\xafu\\xd5E\\x98@\\xb67\\x08\\x13r\\xcd\\xef\\xd8#@\\xceX\\x9a\\x8f\\xf6 \\xa1\\xf2\\xb3\\x8d:i\\x0f\\xd0\\x19mz\\xbbQ\\x1f\\xed\\x01y%\\xa7xh\\xcf\\x90c\\xfb)?\\xd7[\\x17\\xedA\\x87tp\\x10\\xe3:g\\xec\\xa06\\xfb\\x8e!\\xed\\x13\\xb8\\x02um\\x15\\xbbaB?rs\\xc2\\x829F\\xa7\\x92\\xf6\\x1c8\\xe44\\x9ddg\\x0f\\xceX=v\\x7f{C\\x8dx\\x06\\xcfD\\x91E\\x90\\x1d\\xda\\x15:D|r\"x\\x0c\\x97A`\\xc0\\xeal\\xd3\\x01\\x83\\\\\"\\xd3\\xd2<8\\xc8%2K\\xcc\\x83\\x83\\\\\\xaa\\x8e6\\x1d8\\xc8e,k\\xe4\\xc1\\x85\\x9dm\\x8e\\x83\\x04\\x97\\r\\x84\\x93\\xfc\\xf1\\xa3\\x02\\xee9\\xa0\\xf0&\\x99\\xc8\\x99\\xf0\\x01\\xa53\\xbd\\xbb\\x91\\x90Nf\\xee\\x8d\\x0fi\\xf2\\x19b\\xe9\\xfeaRB\\xc3\\x02A\\xfa]?\\x16t\\xf4\\xc4\\xf8\\xb8po\\xa4a\\xc9\\x83\\xd6\\xc6\\xe3s\\x93\\xd0\\xa0J?\\x10\\x12\\n:5v!!!\\x05F|HH(\\xbf3\\xcc\\xb9\\xb6\\xb2\\x9d\\xc8Gn\\xc2\\x82\\x06R\\x1e\\x97.V\\xe8a\\x9b\\xb1\\x99t}\\xb2\\xce\\xd0!?\\x10\\x12\\x1a[Ft#\\xc5<\\x8c\\xe7\\xba\\x90\\x90\\xd0\\xc9\\x8d\\xdd\\x87\\xa4\\x0e\\xf5[!\\xfb\\x00E\\xe8\\xb0\\x0f\\xec\\xf7\\x1d&%\\xd7\\xea\\x11\\x91\\x1fP3\\xac\\x1c\\xf2\\xcf\\x91\\xdc@I\\xe8hn\\xa4$t\\xfa\\x91\\x90\\x90\\xf2\\xb1|HJhS\\xbf\\xb4\\xa9\\x9f\\xf1T\\t\\xdc\\xf0\\xb0\"\\x87\\x01h\\xd4~\\xcc\\x13\\xf6>i\\xc8\\x83\\x13E\\x8bL<\\xc8H\\x9b\\xf1\\xacn$\\x04\\xd4&\\xdbz\\x90s\\x91%\\xb0f)K\\xfb\\n<\\x94P\\x0be\\x0b\\x06\\xa3Pk\\x83wC\\x15B\\xf6\\x99\\x0f\\x08\\te*\\x82\\x0f\\t\\tI\\x11|Hld\\xe3\\x07\\xc9\\x8d\\xa4\\n\\xa5\\xd9(\\xb2\\\\N\\xacR\\xc3\\x1amEF\\xb5\\xb4@\\x1b\\xac\\xa6KD\\xf5V\\xb3\\x1fh\"\\x1a\\xbe\\x0fr\\xed\\x9cP-\\xb3\\xf8Fw\\xa1F\\x917\\x1e\\x9c\\xd0IELD\\r4\\xaa\\xa1h\\x91B\\x1d>\\xde\\xf8\\x11\\xd3\\xc0\\x8f\\xc2\\xb3\\x9a\\x86-\\xc0\\xc4\\xaf\\xe3,\\x1f\\xd0\\x84\\x94\\xa4\\xba>$\\xa2\\x9eYV\\x9b\\x0b\\t\\xf7\\x7fh}u#!!\\xf3{\\xe6@\\xdb\\'P\\x08\\x97id\\x06\\xcd\\x94P\\xba\\x85\\xe6\\x06N5:\\xddHH\\xe8X\\xd3\\xf9:\\xd2$d\\'\\xa2~$\\xb9h\\xb0\\x14\\x84;x\\xbcn<o4\\xd6\\xc1f\\x85\\xfa\\x16\\xf1\\xa5\\x95\\x1b\"%\\x84k\\x1e>\\xa0\\xd8:E7R\\xeb\\x8c\\x9b\\x92\\x0b\\xa9\\xed,e7r\\xb2u\\xa3=\\xde.\\x1a\\x1b\\xa6\\xa7}\\xba1\\xc9\\x83?\\x01\\xdd7\\x9a\\xe5\\xd8%g\\x1a\\xed\\xeb01\\xb5\\x12\\xe8_\\xc7\\x99l\\xd2\\xd4\\x1e\\x07\\x0e\\x92\\xe9L\\xa2\\xf5\\xe0(\\x97y\\x1d-/\\x0b\\xa1\\x93\\xab\\x1aB\\x1c\\xbce\\x95\\xb18[\\t\\xd3\\rK\\xa4Y\\x0fl\\xba\\x1a^\\x1ctf\\x90\\xa4\\x17\\xa7\\xfd\\x1d\\xf7\\xad<8\\xca%J\\xd5\\xf6h\\xd1\\x81\\xc8P\\xc8\\xb0#\\x1b\\x17\\xe3\\x01+\\xbc\\x1fi\\xad(j\\xb7\\x0b\\x08\\xd9\\x94[\\nn$\\xb4&0\\x15\\xda\\x87\\x04\\xe7\\x0c\\x80\\x7f\\x98SB\\x97\\xc5_\\x1e\\xa1 oQx\\x9a\\xd8v\\x91N\\xf2#\\xb5\\xaeR\\xf5C!\\xa4JO\\xcc\\t\\x85\\x94\\xce\\xb7\\xa0\\x14\\xd3\\xb0e\\xe6\\xdcL\\r\\x0c\\x16m!\\xf6\\xf86\\xdd8nx\\xb5\\xf7\\xb9yu^\\xdd\\xf2\\x01\\xb1\\xbd\\x87\\xa5\\xbb\\xaf#!#\\x9d\\x8c\\xfb\\x90\\x10Q\\x96w\\xe3BN\\t\\x91K\\x12\\x0c%A\\xe9\\xc6\\xf1\\xac@\\xfb^F(\\xa0\\xd66%4\\xbe\\xeat\\x03\\xb5\\xd4h\\x8c\\xb8\\x90\\x90Pb\\x86\\xbc\\x0f\\xa9\\xa5\\xa6[<\\x1e$%\\x94e\\x8d\\xf0\\xe4\\x81P\\xb9q\\x8d\\rP\\xb8\\x11w\\x16l\\xdf\\xab\\x94P\\x9d\\xb4\\xe9\\x01BBs\\xe3s!E\\xd5%\\xbb\\x91 \\xeb\"+\\xc6\\x85\\xa4\\x84\\x92\\xc2\\xa5\\x9fB\\x0b\\x17\\xe8\\x83\\x84t\\xdd\\xc5\\x07\\x9c\\x91\\xd6\\xe4FB\\x87\\xa2b\\x83.\\xa4$TN7rn\\xf4\\xb8Aj\\xa6\\xe4\\x05-4\\x04\\n\\xeeB\\xc8X\\xca\\x8c\\xbe\\xd5\\xba\\xd8\\x1a\\x17l}@E\\xcd\\x10m\\xf7!\\xa1C\\x95\\xeb\\xd3\\x87T\\xd4,\\xfb\\x91s\\x95%BAa\\'\\xa3\\x00<J\\xb0\\x13J;\\x96\\xa2}@\\xce7\\'\\xae\\xca]M\\xd1\\x0f\\x94\\x88\\xf2\\xe1\\x87j\\xd3\\x8fot\\x17T\\x94\\xdej\\x95R\\x1an>\\x9a-8\\x8d<\\x19\\xb9\\x8e8\\x8c\\n\\x99\\xaax\\x88\\xea\\xf1w\\xedEF\\xa36`/\\x12r\\x1a=\\x0eo`%\\xa8\\x10\\xdf\\xc0\\xca\\xae\\x0e\\xf9\\r\\xec\\x14\\x15\\xc0\\xb1\\x1f\\x97.\\xea\\xd7\\x05f:\\x84\\xdbiu\\xb6r\\xdd\\x19\\xd09\\xb0\\x07\\x86m\\xff\\xe4\\xccxp\\x90\\xcf)\\x0b\\xc5\\x81\\xbb\\xdb\\xf2\\x1d\\xb8)\\x17\\xf2|]\\xa7\\xc6\\x9d\\xe7\\xa9\\x05w\\xcat\\x80_q\\xde\\xd9j\\x96i=\\x94\\x80g8\\x1e\\x9cI\\xe6T\\x85\\x10\\x17\\x10\\xce|\\xe3\\xd5-\\x17\\x10\\xd1\\x8e\\xc0\\xa3\\x06\\x17\\x10\\xc21^\\xe2l\\xc0M!\\x92\\xbf\\xae8\\xf1\\x87\"\\xf6\\xf1\\xb1\\xf1\\xbd-w\\xad-\\xcb\\xfb\\xcdN\\x18\\x94&\\xcb\\xe1t\\xe0\\xa04\\xc3>\\xf0v\\x13J\\xd3\\x18\\xe4\\xf5\\xe0(\\x97(\\x89\\xe6e>u\\x06gOz\\xfd\\x91[\\xdf\\xc1\\x84\\x8c\\xf1;\\xee_vv\\x13\\xdd@\\xc8f\\x06G\\\\HY\\x89\\xdd\\xdfY\\xb9\\x1a\\xc1\\x8f\\xbc\\xdb\\xbf\\xa2]\\xc5\\x9dP\\xa4<\\x18S\\x11j:\\xd7\\xb0\\xe55\\x9e`\\xd3\\x8c\\xe60=8\\x90\\xf2\\xd8\\n\\x9a\\x17\\xa8(\\x07\\xc2\\xa5.\\xa0lh\\x9e\\xbex\\x80T\\x1f\\x9d\\xe0\\xc5\\xa1G\\xe9\\x1ey\"\\xe9!\\x9c\\xa6j\\x0f\\xc2\\x19\\xdaS\\x9b\\x17\\x07\\xce\\x89\\xcckv\\x01M8Y\\x97\\xa2\\\\@p\\xce\\xb0\\x8e\\x93\\x17\\x08\\xe1\\x14]Q\\x8eLd\\xa1\\xd1\\x14\\xb1\\x04\\xc3\\xc9P?m\\x83\\xa31\\xd3\\x85\\t\"\\xa4d:\\xa9>\\xe4\\x14\\xd0\\x1bP\\x88h\\xee\\x90>\\xa8\\ti\\x0c5\\xbd\\xd1*\\xc54\\x8ck`k\\xbe\\xb4\\xcf<8[\\x8f\\x99\\xe9\\x1f\\xfclN\\xd3\\xb6\\xccSJ\\xcc\\x01q\\x01AAM\\x8e\\xaa\\x0b\\t\\x19\\x05\\x05Y\\\\H\\xe8Q\\xd1\\xeat!\\xb9\\xca\\x9a\\x8eU\\xfb\\x96\\x82\\x16\\xf8\\xfb\\x8a`\\x80\\xdc\\xfe\\x88uZ\\x99\\xb8\\xc5e\\xd6\\xfd@H\\xa80y\\xc1\\x87\\xc4\\xe6>\\x03B.\\xa4vw$/\\xf8\\x90\\x94P\\x99\\xe1\\xa0t\\xed\\x7f\\x861\\xf3:3\\\\rp\\xcf#\\xa8Vxt\\xa6\\x97u\\x1e\\xea\\xbb\\x90\\xda\\xc8j\\xf2Cu\\x9cA\\x1b\\xd6\\x07\\x05YOg\\xd5\\x07\\xa5\\x98\\x8e\\x19N\\xc2\\xaf.l$\\x96\\x06\\x14\\xa3% \\xbbZ\\xaf3\\x9f:#\\x84.\\xe4\\x14\\xd3\\xe1\\x87\\xea\\\\\\xac\\x9f~\\xa8\\x94\\xe9L~(\\xc54\\x13\\xf7*\\x14\\xb1\\xd3\\x81\\xe6\\x91Q\\xa1\\xcf\\xa6\\x90v\\xc1w\\xd4\\x16%\\xa6\\xb1\\x053o\\xcb\\x87\\x04qW\\x9d\\x01\\xfa\\xa0&\\xa6\\xb2Y\\xf0\\x0e(\\x88\\xbb(J\\xe8\\x83N\\xe2\\xe6\\xfe\\xc6\\xb3\"I5*\\xaaL\\xff-\\x90\\xd3*/\\x8bv\\xa4\\xa3\\'D\"\\xc8\\xf9N\\xa8lk\\xd2\\x84\\x13\\x0b\\xfa\\xcetx\\xbdX\\x88J\\xf5\\x1f\\xbcX\\xcajh!\\xd5\\x11Y\\x8d\\xf9:\\xc3\\xb6\\xcf3h\\xd2\\xe9\\xac0k\\xd6b\\x03\\xe5\\xdb<\\x8f\\x8e~\\xa4\\xb69\\xda<>\\xa8l\\x81\\xf8\\x06\\x14+/\\xcd\\xf9qA\\'\\x8f\\x97$\\x19\\xf7k\\x93\\xe4\\x89[f\\xe460:Py\\xe2\\xdfO\\x99LA\\x895N\\xa4\\xc2\\xd6G\\xf6C\\xe7\\xc1b\\xf4C\\x11\\x03\\xa9\\x0c49\\xa1\\xf4I\\n\\xdd\\xcb\\xb4U\\xaf\\xc1\\x1f&\\xf32\\xbf\\xcc\\x8eMl\\x03(q\\xeeu\\x85~\\xb7\\x076\\x8f]\\xa3\\x13\\xa7\\x10\\x11\"\\x12\\x1e\\x9c\\xe2\\xb1\\xca\\xd6~\\x1d7\\xe3\\xd5pG\\xf2q\\xdc\\x03\\x03\\x8b\\x9f\\xb2\\x1c\\x13\\x0f\\xfa\\xdbP\\xccC\\xfc)\\x1b`\\xafy\\x94\\xe5r\\xd0l\\xa5\\xe4;\\xd2P\\xca\\x19&0W\\xcdC`\\x18&m\\xc9\\xd6\\'#:@\\x06&\\x8a\\xd5\\xf3\\x8a\\x0eY\\xe6AFOW\\x93\\x85\\xc0\\xad\\xfeU8\\x08,\\xfc\\x0b}=U\\\\3\\x87\\x0fCT(HJ\\xf3\\xd0b\\xd5\\xd5\\xa8\\x1c\\xcaG \\xc6\\xc8\\x0b\\x02\\x07\\x8b\\x10\\x1dq\\xc2\\xac\\x80\\x89\\xc9&\\xc7\\x8f\"eE\\x1d\\x049[F3\\xfa\\x0b\\xddTu\\x9e\\xbc\\x95\\xe2!\\x8cUwX\\x11\\x93\\xdfY\\xe35:3\\x92\\xd3\\xf3\\xd6\\xf2j\\x8d-\\xb7\\xed.\\xa7\\x82\\x11i+\\xe9\\x13x\\x85\\xc4\\xd6\\x92}\\n?\\xb3\\x13Dk\\x90\\xf9DsC\\xc8\\xd2\\x98\\xb07\\x18\\xa9B\\xf8|\\xb0uy\\xda\\x0e\\x90\\xac}\\x88\\xe5dV\\xc9\\x99\\x99\\xad\\xf42\\xd0\\xaaz`\\rvF\\xcf+-\\x12tH\\x11\\xf5\\x88\\xbd\\xa4\\xf3?%]jj\\xdc\\xc9\\x92WIP\\xec\\xd2i\\x83\\x06f\\xf3w\\x0c\\xbd\\xe45\\x8bU+?\\x9d\\xfaXY\\xad\\xcae\\xcd\\xa68\\x8f\\xadZ*\\x03F\\xbai\\xea>%\\x87\\x06JE\\xedkNt\\xdfP\\xf2\\x88\\xdb\\x92\\xdck5\\x05-\\x94R.%\\xb0\\x02\\x0f\\xf9KMM_i\\xaa\\xbe0\\x04\\xddv\\xe0\\xe8\\x1a3\\x80\\x8dI\\x1b\\x07g7R\\x04\\x8d\\xfd\\x16\\x98;\\xc8v\\xa8\\xb43t\\xcfp>\\xac\\xe8\\x16\\xf15\\xad\\xae\\xa0\\x8b\\xae|EI6\\xaf>K\\xb0\\xa0\\x80\\xde\\xd0\\xdd\\xbaF9\\xcb\\xbb(\\x87\"\\xb07\\x94\\x9f\\xcev\\xe1\\xee\\xb4\"m\\xbf\\x90v\\xf7\\xe1#]\\xed\\xf2\\x91\\x97t\\xf2\\xf4\\xb3\\\\\\x02\\xb2]\\x05\\x9b\\x15W\\xc9\\xdd,P\\x8bt\\x88\\x93\\xd0\\xd7\\xd2\\xd6\\\\\\xea\\x1c0\\xe5]\\xa6B\\xb2\\xdf\\xf8\\xb7\\x19\\x89\\x86\\xccW\\xe6\\x8d\\rd\\xfa\\xe8k\\x94\\xd2\\x16\\xf5\\x97\\xa7\\xfcM\\x8c\\xb5\"\\xe8\\x83\\xfd\\x919\\xf8\\xc8\\xe6\\xe4>\\xb5\\xc9\\xd9,\\x1b\\xf7t\\x95\\xa0-\\x9b\\x82\\x9eL\\xb1`\\xf2 \\x7ft\\x1c4F\\xae\\xb0K8\\xe7Q\\n;\\x1b\\xb9\\r\\'\\xe6\\x1d\\xd2og<\\xcc\\xa0\\xd6\\xc3\\xb3L+\\xad\\xd3\\xa0\\rU\\xaa\\xc3\\x00b`\\xe6o\\x85k?\\x93<*\\xac\\x1eFJ\\x12\\x96{e*(#\\xd9\\x91q\\x80((\\x0b\\xf3\\xd1\\xaf\\xe3\\xed\\xac\\xad\\xd5\\x93\\xfeQ\\xa8\\xdc\\x03\\xd9\\x82\\xfe\\x93\\xd1\\xc0\\xa9\\xfe\\x02\\xd9\\xf2t{\\x879\\xc6\\xaa\\xd0\\x95\\xee7\\x13\\'\\xabn|\\xc1\\x8d,2\\xf4q\\xf6P\\xfb\\x15SH\\xf4!\\xc58U\\xa9\\xf3:\\x0bdu6\\x19*\\x1ch\\xbd2t3\\xf5\\xcf\\x9a1\\x82K3\\xf6\\xd1\\xd9i\\xa3\\x1f\\x19\\xcc`\\xc5m\\x9cY\\xe9\\xa7\\xcf\\xf2\\x89\\x0b-J\\x1a\\xde\\xcc\\x89\\xe8m\\xce\\xe8L\\xc4yLT\\xea\\xca\\x1f\\xb5VO]\\x01D\\xb3&\\xa7\\xdb9\\x139\\x1f|G\\xc6\\xce\\xe5;\\x9e\\x8a\\xd5\\x84e\\x85\\x16V\\xa3}\\xbc\\x7f\\xc1\\x13@\\x90v\\xa7%\\xd1y\\x01\\x8e\\xfd\\x0c\\x9f\\x1d\\xb4\\x0f/\\xc2LFj\\x80\\x1a\\xcc\\xb0\\x9c\\x13:\\xd2\\x9b[\\xd7\\x91\\x8b9\\xd4cC\\xbe\\xac\\xecr\\xe9\\x8f\\xfe\\x86\\xb6\\xeb<M\\xf9\\xc0>uW\\n\\x0e\\xeau;\\xf5]\\x99\\x17L~\\xf6)\\xfc\\x1cm\\xf0k<\\xa0\\xaa\\x1b\\xe3Tyu8\\x7f\\x9a\\xf1\\xff\\xa9\\xcecf\\xc5E\\x1e\\xa5W\\xea\\x05\\x13(|j?;\\xfb\\xd9]\\xa7O\\xf5^mF\\xbf\\xe2\\x03y\\xd1\\xa6G\\xf3\\xb1\\xdb\\xab\\xea\\x98W\\xf3ad\\x14]Opj\\xbev|Y\\x19>\\xcd\\x97q\\xc3>\\xfb4\\x1f\\xcd\\xaa\\xea\\xb4S\\xf3\\x01mSR.\\xcdW\\x87\\xcf\\xe0\\xd7|\\xb4Z\\xb5\\xca]\\x9a\\x8f\\x99=\\x15cwh>p3\\xa1\\xcb\\xa7\\xf92\\x8f\\xcb\\xe9\\xd5|\\x8d2~\\x96\\x96\\xf5\\xb9\\xe6kB\\x99\\xa2\\xe2\\xd2|9\\xd6\\xb9\\xbc\\xa1\\xf9\\n\\xeb\\xd4w,\\x1c\\x1dO\\x93\\x1e\\x9c\\x9a\\xaf@\\xae\\xdaui\\xbe\\xb2\\x96\\xda\\x1b\\x9c?G[\\xfd\\x9a/(\\n\\x92;5_r\\xd2\\x95Q\\x8f\\xe6c\\xa8\\x92\\x92G\\xf3\\x95\\x89S>\\x8d\\xb0\\x7f\\xae\\xf9\\x9a\\x98\\xf8\\xd9]\\xd3O5_yR\\xbc\\'\\xe3\\xd2|\\xf5\\xf6\\r\\xcd\\x0f\\x16\\x1a\\xb2\\x0b\\xe6\\xef\\xa8~P\\xf6\\xc8\\xf1\\x8e\\xee\\x87y\\x8b\\xe4\\x1d\\xe5g\\xcb\\x89{\\xb2S\\xfb\\xe7\\x90\\x91H\\xe0T\\xff\\xa0@\\xec1\\xf7*\\x87\\xfeOl{\\x83\\xfa\\x83N\\xa8\\xfa\\xa7\\xf7#?\\xb7z0\\xdcDr\\xf3,\\x01NP\\xe0\\xbe\\xec\\\\\\x03A\\xf93\\xdd\\xbd\\x08\\xc2\\xcc\\x1c}\\xc3\\xf2\\x01T\\xa7\\x87\\xe7\\tw\\x9c1\\t\\nd\\xba\\xd4\\xac\\xb7\\xa0\\xc9\\x0b+\\x04P\\x99\\xe9\\xe1GZ\\xb2~|\\x0b9\\x83s_ Y\\xac\\xe8\\x11)\\xa2\\xf0\\xb5\\x99@\\xfc\\xc8\\xbdq\\x03c\\xfea_?\\x01&^\\x0e\\xf0\\x01+\\x14\\x08\\xce\\x85\\x1b\\x98\\xda;]\\xad\\xdf\\xae\\xc0\\x93\\x0f\\xa8\\x130\\xbc\\x08\\xe5Gf=_\\xf4\\x0623\\x18\\xe8\\xd3\\x1e On\\xe1\\xa9\\xcd\\xa8\\xeaa\\xcb\\x1f\\x10\\x06\\xa8x\\xfe\\xd4Y\\xe6\\xbe\\xadP\\xf9 \\x10\\xb8\\xa8_ \\x91`\\xf8\\x884&k_#9\\xcew\\x90Ozk\\x9a\\x17\\xe9\\xd8\\xfa:K]\\xcf\\xc1\\xdd\\xd7\\x04\\x0f\\xfe\\r\\xc1V\\x98\\x9f\\xcd/\\xd7\\xca<\\x80\\xc3\\xdd\\xd5\\nj/\\xfe\\xaeJc\\x93\\xbf\\xaf0o\\xaaN\\xbd\\\\\\x9d\\xd5\\xfa\\x82\\xe5\\x98\\xb2\\x02\\xb4@\\xaa\\x9bYm\\x86K\\xd7[\\xbd\\x0e\\xa2,\\xd6\\x9b\\xbeF\\xc6m\\x95l\\xc8\\x01@\\xc6\\xc2\\xd9\\xf9#\\x06x#\\xc3\\xff|\\xaf\\x82\\xc9\\xb4\\x8a\\x82\\xf7\\xbe!\\xf3\\xa7HF\\xe7\\x89\\x8c\\x0f\\xc8\\xca;n\\xbe6\\xa9\\xb2\\x08\\xaf\\xf9\\x80\\x15\\xb6\\x01\"z> \\xf4@\\x91\\r\\xdf(\\xad\\xaf\\xfd\\x1d\\xf1TZ\\xaa\\xd1\\r\\x94\\xfe\\xf0e\\x0b\\xb2\\xa4\\x8e/\\xf8\\x00\\x86LWX\\xbdBV\\x1aJ\\x08\\x99G\\x1e\\x81\\xff\\x10\\xd9v\\xa4q\\xc1\\xdc\\xbe\\x9e\\x01\\x8b\\x80\\xfdY\\x93\\xc3\\x10\\xd4cH\\x9e\\xcer\\xff:\\xfc@\\xc8\\'\\xcf\\xbal\\x9e\\xcer\\x94\\xc1?\\xca\\nKM\\x15\\x95=@\\xeb\\xeb\\xb0?\\x99>\\xcc\\x03\\xae\\x80y\\x0f:zf\\x962\\x8c\\xd2\\xce\\x13j\\x1d\\x87!\\x98\\xa1Sw\\x1f\\x12F9\\x83\\'.\\x9c\\xd9\\xc5\\x99f\\x81\\x0fh\\x83\\x1cJ\\x8d\\xcd=6\\xd1\\xe3\\x86\\x0c\\xdc\\xe4\\xe1\\x1e\\xb5\\x87A\\x9e3\\xf7\\xce\\x854\\x03Zeb}\\xc0\\xd1\\xfb\\xa8\\x13_\\x1f\\x10\\x1b\\xc2\\xa9\\xd7\\x02\\x95S\\xd0wd\\xe6\\xb7\\xc1Q}\\x9c\\xcb\\xb1.\\xe1\\x0e\\xbd\\x01\\xb5;F\\xdd\\x0f%\\xcb\\x86\\xf8\\x1e21\\x9a\\xe0DVX\\xec\\xb4b\\xfcH%\\xc7:\\x91\\xe0\\x83\\xf6V\\xa3\\x80\\x16&\\xb0\\x9f\\xe9\\xc3\\x19\\xb5\\xa5\\xf3\\xcc\\x7f\\xb7\\xc4\\xfb\\x82\\x01\\xee.\\xd6f\\xd2\\x1a\\xdb\\n\\xdd\\xd1\\xf3\\xdb_\\x82b\\xb6@\\xebtX\\x0f\\xb2l\\xf5\\xc1L\\xd5\\x83\\xf2\\x05z\\xfa\\x02u\"\\xfb\\xca\\xca^\\x94o:\\xc9d]\\xc7\\xd7Qx\\xa8\\xacqd\\x0e\\x98b\\xe2,%\\xda\\x8e/`\\x89\\xf1\\x89p\\xd5\\x8f;u\\x13\\xc4\\x01\\xab0\\\\\\x99\\xe7\\xf3:\\n/\\x0c\\x9eLnw\\xc0\\x12\\xf8\\x82\\xb5`\\xd3W\\x02I\\xbc\\xc6u\\xce2OA\\xa9V1\\xe7\\xcfQv\\xc9\\xc0\\x02+\\xb4\\xec\\xac\\x8bQ;\\xbf\\x03\\x86\\x80\\x86\\xc2\\xde\\xaf\\xab\\x95\\xa1\\xcey\\x93\\xe2\\xe5\\xb6l\\xca\\xc2\\\\l\\xaf\\xcb\\x03\\n2s\\xc8^\\x87U\\xac3\\xb1\\xfc\\xcb#\\xc3\\xf2\\xd45WGcz\\x9f\\x91\\xbe\\xdb\\xeb\\xbao}\\x9c%\\x0c^\\x97\\xe3\\xe8\\xe6<\\x91\\xc9\\xac\\xba\\x9a\\x90\\xb6EX\\xcb[\\x08J\\xad\\xb1\\x9c\\xa9m\\xbe\\xd2+>\\xd0f\\x8cw>\\xc1\\xf5\\x13\\xaeI)\\x13f\\xb5\\xb1\\x88\\xe3\\xd5\\xd5\\xbcW\\xcf\\xfd\\xaa=SdD=\\x1b\\x8fJj\\xfc\\x04\\xc8\\x9bW5\\\\\\xc7\\x1bC.\\n\\x01\\xf2\\x1c\\xaa\\x1fO\\x87h!5[p\\xc7:\\x17\\x89J\\x1e\\xcdy\\xc6\\xdf\\xd2\\xd3&Y0\\xb8\\xc6\\xab\\xaf\\x95\\xfe\\xbe:\\xa9.\\xff\\xa8\\xaf\\x06\\xec\\xb3\\xe0\\x81C\\xaa\\xa2=\\xd6X`\\xae\\x97\\xd5\\xbd}>\\x8d\\xd4\\x8dz.\\xe9\\xcc\\x8d\\x92\\xde\\xdd\\xa65\\x9fO\\x87\\x0e\\x8d\\xf8\\x18h[%I\\x9e\\xe1\\x10\\x89\\xae\\xa9\\xcf\\xf9?\\xb5\\xf3\\x04\\xde\\xca\\x0e[\\xb9\\xb2}\\x84,3[\\xda\\x85\\x0b\\xca\\xd8p\\xe9\\xa9\\xccW\\xb6\\xd8\\xf3\\xa51Op\\x1dQ\\xd3Zf\\x83cN\\xda\\\\M\\xafO\\xbe\\xd4\\x86\\xe9\\xbf\\xcc\\'\\ri\\xfb\\xf4\\x1d\\xb2\\x92\\xe1\\xf3\\xd5\\xa4\\xee\\xabx\\xa6BK\\x8a\\x01\\x9b\\x15\\xf8}\\x84\\x05\\xd6\\x04\\xaem\\t&*+\\xc5!\\x18i\\x0cY\\x9eYm\\xf6\\xb6\\xe3\\xd3)\\xcc\\xf8\\xdaRw%\\xe5\\xc5\\r\\x97\\x92\\x9a`\\xd2|\\xbb\\x06\\xda\"\\xdd\\xf9\\x81\\xd2\\xa0E\\xbd?\\xa99\\xd0\\x8c\\xbc0\\x15Ui\\xfd[\\x9d\\xa6\\'\"\\r\\xd0\\xc5\\xba\\xda\\xb3\\x14J\\xa6E\\xae\\xaa\\xe9OZ+\\x9d\\xad]3\\x18\\x98\\xad\\xe3\\xeb\\xa66A\\xd2\\xb7\\x87\\xdb*:\\xcat|\\x97\\x8eJkH\\x8alJ\\r\\xff\\xb8\\xc5iQ\\xf8\\xf8\\xdb\\xba\\x1a\\x95\\x86\\xa9\\xaa\\xc4\\\\\\x8fO\\x80\\x0f\\x0b\\xd1\\xa8-y\\xb9\\x06j\\xa3\\x84\\x01\\x97\\x86s\\x8c\\xac\\xb5\\xe4\\x91\\xcd$\\xd3\\xd3\\xb9\\x84M4\\xb3D\\x9bk3\\x85h\\x8a^9o\\xac\\x04\\x10\\xcf\\xa7#\\x0cGK\\\\\\xfd\\xb3\\xc9\\xa6\\xb7_\\x1c\\n>\\xad\\xae\\xc3\\xb9\\xa0l\\x80\\x87.a\\xe4\\xaf6\\x99\\xc0\\xf8\\xe7Fms\\x1f\\xf5lN\\x9a\\xf8\\xd3\\xdb\\x9eu3\\xb0\\xe0\\xa7\\x8b\\x9fL_N6\\xe7\\x9b\\x05\\x11\\rk\\xb6\\xb8\\x16\\x05%\\xca5\\xe12M4\\x85ir\\xdb\\x14\\x0b?\\xbbmW\\x9d1\\xa8\\xda\\xb6\\xf0\\x086\\x0b\\x07\\xca\\x04sL#\\xfde\\x14R\\xb8\\xaa\\x96\\xd1\\xeb\\xb0\\xb9a;ap\\xa2\\xf3-x;\\xa9\\x87\\xe9\\xb9_\\xbf\\x8e\\xe3+\\xf1M\\xe51>\\x86\\x08\\x02\\x0f\\x03v\\\\k\\xd3\\xbe/*\\x15\\xfd:\\x08)\\x7fW=\\xf5\\x97a\\xda\\x8ed\\xdd\\xbf\\x0c\\x93\\xb7\\xc9\\x8b\\x7f\\x8f\\xb0\\xf4\\t\\x0c\\x92\\x8czH\\xd1\\x81\\x83$\\xedTv\\xd6\\x0b\\xf9\\x80\\x0b\\x0f8\\xa5\\xa8\\x9f\\xe8&\\x12T\\x1c0mCW\\x1d\\x95\\x17a\\xb6p\\x82\\xe2\\xb5\\xaf\\xa3\\xa0\\x94A\\x11\\xd0\\xd7aT\\xca8\\xef\\xa1\\xbf\\x8c\\xc3k\\xdb\\xd7e\\xdc|~\\xc4\\xb5\\x07\\x1c/\\x05\\x8c\\xc1u\\x95P|\\x1d\\x045)\\xb3\\\\\\xc7\\xcb0\\xaaI\\x9d~\\xdc\\xcb8\\xaa\\xc9\\xd8E`v\\x1e\\x0f2yT/\\xd5#\\x80,OEJ_\\xc7q\\x81\\x17\\xa6axpX\\xaa0\\x02\\x1c(y\\xc5\\xb8@\\xea\\x80)r\\xd8?Y\\xe1\\x9f-\\xb9j\\xf3\\xcd\\x9b\\xae\\x0f\\x17/\\xb6\\x08X\\xb0\\xb4\\x1cC]\\xe1\\xa4*\\x0er\\xa0@BQK ~\\x8c\\x83\\xb4\\xb0\\xe1\\x02\\xfa\\xab\\xbb;\\xdc\\xc4A\\xe7\\x1e\\x98\\xb6b\\x1e\\xec>\\xe2\\x96\\xba\\r\\x93\\x88\\xed\\xb4\\xab\\xb9\\xaais\\xc0\\xb0Y\\xcdG\\x03\\x1e.\\xeb\\xb4\\xb4\\xe1\\x1ag\\xe0h\\xb3\\xb9Y\\x84\\xdf\\x01\\x83\\x9a\\xcc\\'\\xfb\\x1e\\'a\\xef&\\xbf\\xb5\\xf6+\\x12\\x98\\xe5\\x089`\\xb2K\\x19\\xf5}\\xecf\\xd9p<\\xe9\\xaey\\x8e\\xce\\xce4\\x8b\\x13&\\xff\\x10\\xd5\\xf6\\xce\\xc7n\\xd6\\r\\x17\\xe5\\x8f^\\xdd<\\xc5z\\x1e\\\\\\xc5\\xdc\\xa9j\\xd0\\x03lE\\xe8B\\xe0\\x976]f\\x84B\\xd7\\xe4\\x84A\\x98\\x07\\xefu\\xa5G\\xdc.\\x15\\x1d.\\xd6\\xd9\\\\\\xd4UK\\x0f\\x0c\\xc2<UJ\\x87>e:\\x10\\x06\\xe5\\xaf7\\x8f\\xb6\\x17\\x18\\xb3\\xba\\x82j\\xc3\\xeb\\xf2b2\\xbd\\xa6\\xb2J\\xbe\\xdc\\xe1*n\\x93\\x15\\xd6KF\\x98T\\x15\\x0e\\x94\\x05\\xb1S\\xd2}|\\x95\\xb5L\\x1b\\xc2\\xac\\x00&\\x9a\\xb2v4c\\xd6mX\\x1f\\xbeo\\x11\\xd9u\\xf5\\xbc\\xca\\x8aF=\\x8e\\xa6>\\xaa\\xc7O\\x80\\x99]\\x9dQx\\xbd\\x10k\\x17\\x00\\x0b\\x97\\\\\\x7f\\x06\\xcb\\xba3{\\xcc\\x11\\x0e\\x96\\t\\x0cz\\xf2M\\xa9\\xb8\\n\\xdb\\xde\\x03\\xfb\\x04\\x1ehOou\\x04\\x1d\\xa0\\xe6m\\x89\\xdf\\xc5\\x82!7\\x1dF\\x01\\xc6\\xa2\\x8c\\x1e\\x186\\xe6\\xac\\x0ce\\xcf\\xf8\\xc4.\\xd1-O9\\xcc\\xb4\\x189\\xe4\\x90\\x9ew\\xb5\\x17L};fm\\xc30o\\x11\\x1cL\\x8c,\\xeb9\\xa4\\xbb\\x06\\xe9P\\xb7\\x13\\x16\\xba\\xd6R\\xe6\\x9e\\xce\\xe0\\xfe\\xf6\\xe1{\\xe5\\xceT\\xee\\xcb\\x93\\xc9\\xd2\\x18O\\x83\\x90\\xa9\\xde\\x1b\\x98\\xd7N\\xeb\\'#<\\x10\\xcfo\\x9d\\xaf`\\x1c\\xb0\\x00\\x99[\\xecQn\\xf9\\xda\\xdd\\xbb\\x9a4\\x17L)\\xd6\\x9exw1w\\x03F\\xa4+\\xb7t\\x15\\xa7\\x8b\\xbaw\\xeaZ\\xf8$\\x8c4\\xd3\\xf0\\xad\\x91\\xf0IO\\x993\\xdd\\x98\\xd5\\xcc\\x1d\\x9e#\\xec\\xb2\\x82\\xdas\\x1c\\xb3\\xb1+\\x9dyZX\\xd5\\x8d\\x83d\\xba*\\x8er%i]=YP\\x8d\\xfdMj\\xf0T13\\xfe|\\xff\\xe8\\xfdL\\xe0\\xdf5\\\\%`\\x0b\\xb3J\\\\:\\xaa\\xedL\\xafuQ\\xd7\\xf2\\xb6\\x89\\xed\\rV\\x1e\\x87\\xb1\\xaa\\x1bw\\x8a3z\\'\\x82t\\xc8;\\x02\\xe4\\x993<\\xdf(*\\xa3\\x1eW\\xf2\\x8b\\xa5H$o7\\x19\\x83P\\xb1Y\\x07\\x8b\\xca\\xd8\\xcd\\xc9KO\\xec(\\xef\\x06z\\x88\\x14\\x06oq\\xcf\\xbb\\xcc\\x18\\x16.\\xf3\\x08t\\xc6\\x1d\\xdd\\x1b\\x85\\x8c\\xde8\\xaf\\x02\\x1c\\xaf\\xce\\xfcd\\xfc\\xe6\\x9d\\x0b\\x01q\\xaa\\xe2b\\x19Lb\\x99W\\t\\x1d\\xab\\x17\\xc7\\xf4\\xf3B\\xa0\\xa7\\xc5\\nu\\x03\\x1f\\xba\\x96\\xa1\\xa9\\xe9\\xac)\\xe9Q\\xefi\\x075\\xef\\x1ec=\\xa3\\xcb\\xef\"\\xfc\\n\\x9aa\\x1c\\xca\\xa3\\xa6\\xc6\\x16\\xe9\\xaeR\\xfekZ\\n\\xb6h\\xc1\\x0b\\xc3\\xc4\\xeb\\xb8\\xc9\\xc5\\xbeRn\\x16\\x1c\\xf2L\\x84\\x02\\x89\\xbc\\x02\\xed\\xd9\\xb3\\xa1\\xdcz\\xc6\\xc2\\xb5*\\x14\\xcdu[\\x17 \\x1a^\\xee\\xf2X\\xea\\xd8(\\x94\\x98\\xe0\\x02\"\\xde\\x93\\xdd\\x16\\x02g\\xde\\xcd\\x87Z\\xb9,\\x8e\\xe5\\xb1\\x0e\\xe9\\x933\\x04\\xe0\\xc1\\xc9)?\\xdd.\\x0c\\xe4B\\x86\\xf1\\xd8\\xcd\\x03\\x96\\xde0+\\x14@cUM\\xcf\\xf8\\xe40!\\xa4\\xe2RlL\\xa0\\x7f\\x97\\xd0\\xc6\\xcb\\xc0\\xaeG\\x9e\\x98\\x88\\xa2#t\\x0f\\xf7*\\'\\x8b\\x07*\\x9e]\\xc2HMG?.\\x12\\xc5\\xcc3\\x9b\\xc53\\x85\\xa3\\xb96K\\xd28l{q!mt\\xcf\\x04\\x92`X\\x98\\xc1\\xd3 ,\\xd8\\xe6Vl\\xf9 \\xd03\\x8f\\xc1%\\x05eT\\xccCL\\x98w\\x1dK\\'&\\xed\\xaf?\\xee\\xd8\\xe6\\xe0\\xb8\\xdbEh\\xc3\\x95`\\x9c\\xca\\x01#\\xc1\\xf0\"\\x90\\x036=\\xa5\\xe4\\xc4\\xe9\\x88\\xaazG\\x17\\xe2\\xf1\\xedJ\\x9cH)|\\x05T\\xec5n&\\x0c\\x02\\xfb\\x1e\\x18\\xc5r\\x9eN\\x18V{`\\xc6\\x9b\\x07\\x07\\xb1T\\x9e~{p\\x14\\xcb,\\xb6u\\xf6\\xaf\\x80<\\x1fi\\xc74\\xb4\\xac\\xdcLu\\xc2\\x105\\xc7U\\x08\\x0fj\\xfa\\xe3^\\x1c\\xd6\\xd0!\\xbb\\xd5\\x81\\x83T\\xf6G\\xdb\\xee\\x81{\\xc0PE\\x9ej\\x9b\\xc33\\xad\\xcbN\\x98\\xcc3\\xc6\\x0b{\\xf9\\x02\\xa7\\xf7v-oI\\xcd\\xb5Y\\xbb\\xf8u\\x18\\xd6^V)\\x9d\\xc7\\xac\\xac\\x1d\\xc7\\x82\\x80\\x95U\\xbb\\x18\\xeb\\xc5N\\xf4\\xc3$_\\xfb\\xf8R\\xe9Ad0\\xae\\x1d0m_\\x8c\\xd9::9\\xf7K\\xc8\\xb2\\x85/p\\x81\\x8f\\x16\\xd7:\\x07\\x17t*\\xf0\\x04\\x96?\\x83\\xc9\\xce\\xc5B\\x7f\\xa8\\xc0ug\\x12\\xeaH\\xa7\\xf0\\xa8%@S\\x8a\\x17\\x96\\xbe]\\xa7\\x02\\x1eX\\xc5\\xfa\\xc1\\xa1\\x80\\x076K\\\\{{\\x89)?\\xb9\\xc7\\xe6\\xf3\\x03\\xeen\\x97~\\xe8f\\x8e\\\\\\xe6\\x1e\\x98us\\xf8\\x10\\xd8\\x13<8\\xebf\\xa9\\xe4v\\x0f\\xceT\\xb3\\xc8\\xf4\\xf0\\xe0p\\x8c:l\\n\\xa4\\x18{\\x80\\xb1\\x1a\\xf0Tb\\xc6\\xc7\\x03\\x0c3\\x05\\xe6\\xbf\\xbb\\x94\\xb9^GV\\x8d\\xf7q\\x1c($\\x05(F\\xe4\\x80iG\\xe7\\xa9\\xe1\\xeb0\\\\p\\xea,\\xcf\\xe5\\x80)&\\x9c\\xb2\\x0f6\\xb3\\x02\\xe0(\\xeeu0)\\xf6\\x8d\\x1eT\\xff\\xb4\\x96\\xb9\\\\\\x0b\\x8bj8@4\\x1dhq\\xbc\\x8ebL!z;xB\\xfa\\xdd\\t\\x93\\xbdA1~e7t]\\x19\\x8c\\x9b\\x18\\xfb\\xcc\\x9a{\\x19\\x87\\xe4\\n+\\xd2\\x04%\\xf9zG\\xe6;\\xa1\\x8d7\\xe3(J\\x1c\\xb7{\\x9a\\xfb\\x86()e\\x12?\\xa0\\xee\\xb7\\x104V\\xd3\\xdcV-.w8a\\x90\\xa5*v\\x7f\\x8d\\x0b\\xbc\\xfcW\\xdb\\xb5\\xf3\\x04\\xe5396\\xac}\\xe7yL\\xba\\xdaw\\xacC\\xd6B\\x9e\\xcdE\\x95\\xf2\\xf0\\xc0\\xa4)\\xcc]\\xe8\\xf9\\x05\\xdc\\xb2QN\\x05r\\x1d\\xb0;\\x1b\\xe5\\xd1\\x94\\xda\\xf7c^%{\\xc9\\x94\\xbaS0\\xe5q\\x94\\x8b*g2\\x81\\x03\\x86n\\xea\\x02\\x99\\x07\\xa7\\xb3\\xb0\\xf4C\\x85V\\r\\xd5\\'\\n\\xfd\\xfa2`t3\\x16\\x1fJ\\x13~:\\xa9A\\x9e\\x08\\x0b>;V\\xf8\\xbeW9`\\nP\\x92\\xcf\\x1d8\\x85\\x0f\\x98\\xd1\\xe4\\xc0\\x81\\xf9\\xec\\xeecv\\x02I}Q#\\xdc\"#\\xf8\\xe3\\xc9\\x8e\\xd5\\x02\\xe0\\xc8[l~\\x18R\\xc4\\xf4\\xdeG~\\xcc\\xc6Y\\x1d\\x7ff\\xa4\\x14\\xa5|{\\x8c>\\xc5\\xec\\xa3\\x17\\x87\\x06\\xe7\\x93e\\x1e \\xac\"{\\xab\\xcbk\\x87%\\x86|gJ\\xf4=\\xec\\x9eZ>\\xf2t\\xd2\\xeb\\x13\\x0e\\x18\\x18I\\x81\\xb1\\x1f\\x11.\\xfe\\xbe\\'\\xdc\\xd7\\xee\\xa6\\x02\\xd64\\xb8\\xd1\\x1aOL_G\\xa1\\xb1\\xae\\xec\\xa6\\xd7a\\x98\\xf3\\xa6|\\xc2\\xf6\\x95L<;\\xec\\xa7\\xb0}\\x87}2\\x05/\\xed\\xb0\\xef\\xce\\xdcW\\xb1\\xa6\\xaeR\\xeb\\xebLw\\xda*\\xaf\\xa3d>\\xd3\\x80{\\x1d\\x06\\x1e;u\\xb1\\xf2u\\x18\\r\\xb8\\xca\\xa32\\x07\\x8e\\xd9\\xb1\\x8d\\xfa\\xe5\\xa1\\x95\\x04\\x0f\\x94\\xa5\\xf5\\x1d\\xb0\\n\\xce\\xc4\\x84{`x)\\xa6\\xf1r\\xab\\x07g\\x93\\x90\\xf5\\x9a\\x8e\\x07\\x87`E\\xe3y\\xa5\\x07\\x07\\n\\x1b.(\\x97k|\\x81\\xddu\\xc6a\\xd6\\xfe\\xa1\\xdb \\xaf\\xc3v\\xa3\\xca\\x01\\xe3^\\xd2g\\xaa\\xd0\\x0b8\\xeeA2\\x8e>\\xbf\\x88y\\xfd\\xfbI\\x08\\xa73|\\xe0\\x88\\x18%\\x90\\nL\\xaa\\xfcqp\\xe1\\\\\\xe4\\xd0h\\xa7\\xe9\\xaf\\xca\\x83\\xb5\\xe0CE\\x9c\\x0b(\\xffW\\xe7@\\xac\\xfcO:S\\xb5\\x1cL|\\xa7\\xd9^V!\\xfd\\xa4\\x13\\xb9Y\\x9a\\xab\\xab5\\x1e\\x08\\xaal\\x17\\xed>%w\\x9e+:\\x9c\\x18\\xe8\\x98\\x95\\x17X\\xbf>(\\x05Z\\x15\\xe3\\xd98\\x8b\\xe1\\x94\\xc5\\xf0\\xc3\\n\\xe4\\xd3\\xbbd\\xd5\\xc0\\xea\\x1c2\\x9c9\\xaflU\\xc5\\xf4\\xe32\\xa9guF\\xd2\\xe7\\xac\\xf0HZV\\x89\\x96\\xa0S\\x1d\\x8eve\\xbf\\x8eIJ\\xdb\\xa9\\x82U\\xa2D\\xe3a\\xc3R\\xf2=\\x10\\x9b\\xf7\\xd1\\xf2D\\x89\\xdf\\xca/\\x90+\\x9f\\xefZ\\xc5\\x97\\xb6s\\x11\\xb7\\xaed\\xa7Cr\\xda4V\\xcdp\\xf04\\x91\\xd9\\x015I`]MJ\\xf3\\xa8\\xa4\\xf8\\xf7!~Z\\xa7\\x19&\\x0b\\x9c\\xf2\\xa8L\\x06m\\xc3\\xebhJ}Fgy<\\xb6=\\xe8\\x11g\\rJ\\xbd\\xb6\\xb2\\x99\\t2\\x80\\xf8-\\x07\\'\\xa9\\xac\\xfd\\xc9R\\x8b\\xcb\\x83p\\xf9oM\\x0b\\x95!hE_H{\\xb1\\x939\\xd0\\xfbB\\xd4H\\xcb\\x86\\xe4x\\xeazG\\xc4\\x12~yR\\xbb\\xbc\\x02e@\\xcf\\xda\\x97\\x9cN^\\xb2\\xa8\\xf5\\x92m\\x98\\x0fd\\xeb\\xc1\\x18}ZG4U\\xaa\\x8c\\x8e*\\xa5|\\xdd\\xc2\\xb1\\x12\\xc2\\x8ctK\\xf74\\x11\\xa4\\x1a\\xd6\\x1c\\xe1\\x94R9\\xb7\\xa7\\x0e\\xf2\\xf4\\x99t\\xe8Q6e\\xe2\\xa4r!(Yx\\xf9\\xd7V\\xfe\\x12\\xd4\\\\d\\xfc\\xef9\\x13\\x1c\\x1c\\x80\\xaa\\xb7\\xb7\\x1et\\x18^\\x1e\\xc3\\xf2\\xf3%\\x07*\\x83\\xc4[\\xb7\\xa5\\xc6\\xfd`\\x7f\\xa5%\\xea\\xad1.5\\xf2&\\x9f\\xf8\\xd1}#\\xba[It\\xb3\\xaf\\x95\\xfd]\\x0665\\xb7{\\xca\\x9b\\x7f\\x1eQ\\xfa\\xb7\\x96wc\\x0e\\x9a\\xde\\xe5\\x88\\xbb\\x16i\\x04AP*`_Vc\\xe5\\x8d\\x9e\\xf9(\\x88\\xb2\\x1aT\\x87\\xf0H\\x0b,:\\xa9a-\\x99y\\x1fk\\xbb\\xb1\\xa2\\t\\x955\\xa7\\t\\xa5\\xa8\\xc2\\xd2\\x05\\x85\\xce\\xd3VF&\\xb0\\x04\\x98\\x98\\x97@>\\xb4Q\\xd35/\\xc6\\x028\\xd4i\\xd2S\\x9e5\\x9c[\\xd7\\xef8{\\xb1\\xfd``\\xd6\\x18R\\xa5\\xb1\\xb2Y\\x9bT\\x18vR\\xa5\\xbf\\xfa5H{\\x82\\x9a\\xa1\\xd4\\r!\\xfd\\xef\\xbbxT\\xab\\xa7^\\xa2=\\x95\\xe9\\xaeJXQ\\x92\\xe1\\xa0\\xaebJ\\x18\\xa7\\xac\\xe4\\xe5\\x12\\'-n\\xd5\\xd2\\xda\\x1cUI\\x96c\\xe5\\n\\xae\\xeb\\x98-\\xcb\\xda\\xda\\xd7\\xc8L\\xac\\xd0m?1-\\x87{^M\\xda\\xec\\xd0\\xe6\\xddV\\x97\\xcc\\xb1\\xaa\\xa9E\\x9b\\nJl\\x97?\\x9a\\n\\xfa\\xc5\\x8dO\\xf4\\xb8\\x8c\\x14\\x97\\x12\\xd2\\xfa\\xbc\\xdbHY\\\\\\x99\\xec\\xaeN\\x0b\\x1b9\\xed\\xd2\\x04t\\xb7\\xac\\xfbk\\xd7\\xdb\\xd3R\\xd8\\xbdm\\xde\\x16\\xc3\\x1f\\xfdPp\\xe3\\x92\\xd0\\xf4\\xe1\\x9f(\\xadto2\\x18{\\xbb\\xb6$\\x0b\\x9f\\xc1\\x07\\x99oP\\xf1sZ\\xdayuV\\xb7w\\x96\\x0e\\r\\xe5CDK\\x8bl\\xbf21Y^K\\x9b\\xd3R\\xda\\xee\\xd5\\x9d3\\xf9\\xc0~T6(\\xa7@\\x13\\x9a\\xc5G\\xd7Z\\x99\\xe7\\xc9Q\\xe4\\xc3\\x9d\\xac\\xef\\xac@\\x88\\xa6\\xa5,\\xc5\\x9d\\xe7v\\x9bA57\\xc2}ki\\\\\\xbem\\x19\\xdfi\\xd6\\x0c\\xd0\\xee)\\x03C\\xc7\\xb2\\\\.\\xda\\xb7\\xb9\\xce\\xb6\\xd7\\x89\\xa6\\xa9\\xa0\\xfdw\\xe7\\xea9\\x02\\xf4Y\\xdb\\xf8\\x8a\\x17Z\\xfc\\x08\\xa4\\xa0\\x95\\xa5D4\\x0e\\x87\\xabRf\\x11i\\xbe\\x84\\r\\xa9g\\x8d\\xa8,\\xec\\x13\\x7f}n\\xda\\xc7m}\\xb3\\x89\\xac\\xac5]\\xaf\\x8di\\xe7b\\xa1P\\xd4\\x15m\\xf8\\xab\\xb3\\x85^TP\\r\\xcb\\xfd\\xa2\\x13\\xe5#\\x91\\xa9\\xfd~\\xcdg\\xd0{\\xf2\\x93\\x9b\\xd3\\xd2\\x04\\x19\\x7fT\\x04j@[\\xbb\\xb6\\xa9#\\xe4\\xb3\\x058\\xa7\\xc6kG\\xa5&\\xebP{1\\x98\\xc5\\x0f\\xc1&J\\x91\\xdb\\x1cM)\\x02{\\xac\\x14\\xbe\\xcdf\\x0c\\xaa\\xd49\\xfd\\xb9mK\\xdb\\xe4#\\xe2\\xd3\\xfe+\\xd5K\\x9b\\xa1*\\xc1rq\\xb4\\xb5{vNU\\x0b\\x8b\\xbe\\xf4\\xb6\\xcc\\xcc]\\x9a\\xcfc\\xbd2\\'\\x83\\xd1\\xf2NC\\x1cm\\xe0\\xe6\\'\\xf6\\xa4\\x82\\xb0\\xbd\\xba\\x1e\\xd5\\xb3k\\xd3\\xe7R\\xf8\\xbbL+i\\xad\\xf8\\x96#\\xed\\x0b\\x19gR\\xd8&T\\x99\\x94\\x93\\r\\x00a\\xdfk\\xbcf\\xc5\\xca\\xab\\x9d\\xaf\\x0c\\xf5Q\\xbcQO*\\xcaW\\xd1p\\xb9/\\xcd\\xd7\\xd9\\xd84\\x85\\xb4e\\xfbX\\xfei^\\x1b\\xa8\\xa0\\xc4t\\xd9\\xca\\x80h\\x1f\\xec\\x97\\xfeY\\n\\xc7\\xe3\\xd4<(\\xc3h\\x93\\x03^\\xb6\\xbc)$(lVO~d\\\\\\xb9@\\xdc\\x93\\xd6\\xfd\\xc74\\xdfq\\xc8\\xdb@\\xa5\\x9fr\\xb2\\xf8]\\xdc\\x05\\xea\\xa2\\xb0&\\xaa\\xbe3\\x8e)\\xe1Y\\x18\\x9e\\xbd\\xa5\\xd5P\\xd6j\\tz\\x12!n\\xa1K\\xd1\\xed.\\xa0\\xaek8\\xeb\\xc9\\xb2\\xa1\\nqS\"\\x9d\\x88ti=7\\x13\\xfcD\\x8e\\xc7\\x1di\\xf2\\xb1)9e\\xdc&\\xe7\\xffh\\xe2\\xf2\\xcb\\xd8\\xf7r^\\xe3\\xb4{\\xc4\\xb0Se\\xf8i\\xda8\\x15UL\\xca\\xfeR\\xe9\\xd7\\x89\\xe39\\x0bYH\\xe5\\xca\\xbe\\xf7\\xb6\\r\\xc98B\\xcdw\\xe6\\t3;\\xb4\\xd3o\\xba\\xaf\\xda\\x02\\x00jK\\xea\\x8b\\x17\\x8e[\\x07\\xa1<\\xdc\\xf0m\\x8b\\xfa\\xbaL\\xa3\\x15\\xbe\\x18t\\xc2\\xfa.\\xbb\\xce\\xe9\\r\\xbb\\xb6Q_\\x9f&\\xeaR\\xbd4K\\x90Q\\xd8\\xfb\\xa3\\x97rt\\xb4He\\x9a\\xacSt\\x0bqr\\x91\\xf1s\\xf5\\x8eU\\xc4\\\\lNN\\xdd\\xdaW\\xbar\\xb2R\\xd8\\xa0\\xbb\\xf6\\n\\xa8\\xa5vuw\\x18F|\\x92k+\\xb3v\\xa9\\xc1\\xd7\\xdbJ\\xd45\\xb9\\xaf7\\xa4F\\xa3\\xaa-+a\\xe8\\x1e\\xd3\\xbc\\xd3\\xd6\\xe4t\\xb4\\xa4S\\x80\\x97\\xf0a\\x94&[D^\\xf4ie\\xfaqu\\xdd+\\x10\\xf5`\\xddqMz\\xf5IV\\xeaG\\xeecW\\xd9QN\\xcbf\\x84\\xcd\\xe7d\\x9f\\xecI\\xda3\\xd9\\xf2\\x03\\r\\xcd\\xd2\\xa6\\xday\\xef\\x8e&\\xbeT?\\x13\\xd1\\xb9i\\x82R\\xf7u\\x14U7\\x85g\\x80h?\\x1aV-\\xf9;\\xa6\\x965-\\xcd\\xa5>\\xd0\\xc4j[\\xc8[\\x0f\\xd0\\xa9hB\\x08\\xda\\xba\\xf0\\x9f\\xcd\\xeb\\xed\\x1cM)\\xd7\\x1ez\\xe5\\xab>\\xf1\\xe7d\\x9as\\xa0\\x93\\x87\\x96i\\x9cg\\x18\\xe3G\\x14\\xffq\\xef\\x9dgq\\x97\\xfai^\\xa5\\xba\\xbbg\\x86\\xaf\\xdb\\nlG\\xbd#\\xa3\\xf2\\x87Z\\xd7\\xfbb\\xa1\\xc5+\\xef~{z\\xb3L\\xbe\\x15\\xdb\\xed\\xbd\\xa5\\xf5\\xa7\\xdeJ\\x13\\x96\\xce\\x17F\\xf8\\xef\\x07\\xc8\\x1e\\x1d\\xdb\\xc2f\\x93m\\x9d\\x85\\x0fE\\xe6\\xc5\\xfa\\xcd`|&\\x9e\\x8f\\xaag\\xe1^\\xd0\\x90TG\\x1b\\xa1\\x9c\\xd8\\xba\\xd9\\t\\n\\x17\\xd6\\xb2T\\xa8\\xb3\\xc6\\xdc\\x0f8\\xe1qe\\xf7\\xbb\\x92\\x8d*\\xd9M5\\xa0\\xa8)W\\x99\\x8b\\xeb:\\xea<!P/\\xa7\\xc3+Kt\\xee\\x9b\\xdb\\x08K\\xba\\xdaL\\xf39\\xcb\\xb4\\xfb\\x19}\\xb7/\\xb8\\xbat\\xa2\\xb4\\xdcO\\x9b\\x13Fc\\xa9:J\\xa8\\x91\\x03\\xda\\xd7\\xca\\x16\\x11m/\\x1bG\\x1dt\\xcf\\x0e\\x8bT$\\xc2c\\xb7\\xc2\\xf4\\xf2\\xeb\\xe6\\xbb\\x1e<\\xdb\\x9b9\\xf6\\xc2\\xea5ZN\\xa46\\x15\\xcai\\x85\\xeel\\'\\x00T\\xfb}\\xde\\x95}\\xdf :\\xa9\\xb5\\xc45\\xd8\\x93\\x87|\"]\\x05\\xadg B/\\xe2r\\xb0\\x84n\\x1b~Pu-m\\xc7r\\xca\\xe4\\r\\x1d\\x8b\\x18\\x1a\\x97EY\\xda;\\xc6\\xca+D\\xe215\\xca\\xbf\\xeaj4\\x1c\\xca\\x9e^\\x01\\x89\\xf9b\\xf9\\x8cwk\\xefT\\\\0.\\nT\\xad\\x8c\\xb2\\x15\\x039\\x05\\x95\\xdd\\xa5\\rB\\xcd*\\x1f\\x03P=Y\\xbd\\xe2\\'Q\\t\\xab\\xd3g\\x90Nq\\xf2\\xb8\\x04\\xc5\\r\\xfc\\xf7&\\xe0HCC\\xa1\\xb4\\xb9\\x1d\\xe9\\x95\\x83\\xb8I\\x89\\x03*a_o\\'\\xeb\\xf3\\xf1\\xddg\\x94\\x03\\x1f|\\x92m(\\xf8\\x1158\\xe3\\xdd\\x1b\\xf3&\\xcfo\\x93\\xc8.or^\\x10\\xd8\\xcc\\xf9\\xbc\\xe8\\x017 ,:P51\\x977\\x89\\x87\\x8e\\x02Kr]\\x9b7\\xaetX\\xaa\\xaam\\xfbv\\xc5`(\\x88\\x90\\xe6Mv1\\x99\\xdd\\xf7J\\xc7v\\'\\x05u\\xc6\\xf0U\\x977\\xb9^tS\\xb6\\xc6\\xbd7\\xc9\\xef\\x8d(\\x14\\x17\\xf0U\\xa6\\xf6v\\x81\\xa9\\xb69\\xcc\\xdd\\x9bTA\\xb2xu\\x16U\\xbex\\'\\xe8D}\\xd1\\xba\\x15\\xacm\\x8a\\xddQ>\\x1fw\\x97)\\x1fsw\\xe2E\\xbe \\xfacNf\\xb8\\xae\\xae\\x99\\x13a\\xb7\\xd9\\x1a\\xde\\xac\\xd6K\\xd2\\xf2&\\xf3\\xbc\\xfa\\xb6{\\x93\\xe1\\xdb\\x83\\x99\\xf1\\xe5\\x9c\\\\\\xded\\xe2#N\\x89\\xb7M\\x8e\\xc4\\xbb?(\\x8d\\x86\\xd9\\xd8\\xbc\\xc9)\\xa1\\xcd\\x9b4\\xad\\xb9\\xf3&\\xf9P\\x12\\xbe\\xac\\xe9n\\xd2\\xe8\\xf7T\\x04y\\x93\\xb1\\xf7\\xebR\\x92%\\xa9c\\xddC\\x05\\xd1\\x19s&mRb\\x9d5\\x0bvg\\xf2\\xcb\\x91>Jww&\\xaf\\nq\\x89\\xaf\\\\e\\xbe2V\\xa8}|\\x10\\xca\\x9c\\xc9\\x0f\\x97\\x19\\xcd\\x99\\xcc\\x17\\x94om\\xc9WB5Ns&\\xed\\x12N\\x87Fb\\xa0Z+F\\xb48\\xa9\\xdf^\\xa4\\xaah\\x94\\xcc\\xd9Q\\x8d\\xdc\\xf6\\x19\\xdd\\x86[\\xbe$\\xe7_Z\\xca\\x1er-\\xd2\\xa0\\xeax\\x87\\xab\\xa6\\xbd\\xac\\xc3\\xe5K\\xae\\xd5uBWX\\xf4|\\xfa\\x92\\x95+>N5\\xba|\\xc9\\xfb\\xd2{\\xb8\\x14\\x89\\x15\\x132uc\\xb0b\\xfe\\xc4\\x97\\\\\\x97.\\x1b\\xca\\xefZy\\xa8\\n\\xf9\\xd8-\\xa3\\x84\\x1bP\\xe6K\\xceK\\x7f\\xaa3t\\xf9\\x92\\x98ir\\x91\\xd9\\x8fv\\x83\\n\\xab\\x8cZg\\xbe\\xe4\\\\e\\x8f\\xbe\\xa4-\\xe6\\x93r\\xee\\x18\\x02\\x04\\xd0\\xf9\\xc4\\x9bm-\\x9a\\x94\\xd8g-\\x18\\xbd[\\xa6\"\\xd0\\xf8\\x82zp\\x8c\\x80\\xb2\\xa4\\xa7\\xf5W\"Z\\xbe$~d\\x11\\xd2K!x\\x91\\xaes\\x00,\\x19\\x98\\xfbl\\xd3\\\\I\\xa4\\xed\\xc9b\\xe4L\\x10X\\x1a\\x17\\x99]\\x14\\xac\\x07\\xd9\\xe4\\x9c\\x12\\xda]\\xc9\\xd9\\x94\\xa6\\x867\\x04\\xd1\\xd1\\x86\\xe5f\\x01&\\xf1\\x9e\\xb9\\x92U{\\xe0\\xb5\\xc2\\x12_\\xaak,\\x1d\\x0b]5W\\x12\\xf4\\x17fO\\x1f\\\\\\xc9uoP\\x8f\\xc7\\x89\\x92\\x0e\\x96\\xb3\\xb5\\xd2\\x9djt\\xb9\\x92\\t\\xb3\\xc0\\xc7\\xd6&\\xa5t\\xb0\\x1a\\x97h\\xc0m\\xc3v,\\xd2\\xbc\\\\I\\xbe\\xd3V\\xfa\\xa2@*/W\\xcbr%\\x054W2\\xae=Ef#\\x0b3\\xfe`O\\xb9\\\\\\xc9/w#38#\\teR\\xe6\\xe5Jn\\xab\\xb9d\\xea,\\x87L{j\\xba\\x92\\xe7E\\xd4\\x9b+i\\x1f\\x0b\\x18F\\xc3st\\xa6?\\xfd\\xd2\\xbc\\x03\\xfaa\\xe1\\xfc\\xc9$\\x8f\\xae$\\xee\\xd0\\xa1\\\\\\xbaqI\\xbf\\x98\\x0f\\xdd.\\xac\\x9f\\n]\\xb8\\\\\\xc9G\\x12\\x8ax)\\xf0\\x13\\x12Z\\x9e$\\x07\\xb7\\xad\\xee\\xaf\\xb5oy\\x92T\\x98\\x84w\\x10\\x03/\\xc3\\x8a\\xf8\\xf8\\x06\\xdf\\t\\xbd\\xab\\xab\\xc0qT\\x01\\xb7;\\x9an|\\x11\\x92\\x95]\\xa7\\'\\xc9!o\\x05K\\xb3n,OO\\x92Wa\\xe5Ir\\x8dc\\x9c\\'VR)\\xd7\\x83\\x07F\\r\\xbc\\x9e\\xb4\\xb5ypV\\n\\xd7\\x0c\\x14\\xcaX\\xc8\\xc8\\xf6\\xde\\x93\\x9c\\xb1\\xa5/\\xf6\\xfa\\'\\xfb\\xee\\xeeIFj\\x9f\\xcd\\xfe\\xc9\\xf9\\xec|\\xa5\\x11\\x8aW;/j\\xae\\nJ\\x1f=\\xc9\\xb4\\xe6\\x93k\\x05\\x95L;K\\xa1\\x9a\\'\\x19\\x96\"P\\xb6|\\xdb\\x92/l\\xaa\\xb7\\xacEC\\xed]\\x9e\\xe4lr\\xf3$\\xcfm\\x80\\xa6\\xd7\\x07-G\\xa8\\xc0\\xf4$\\xafa.O2^\\x9d|a\\xfb\\xdb\\x1dI\\x9b\\xf2\\x128\\x0b\\xb4*j\\xd88\\x9a\\xd7c\\xcd\\x91\\x9c\\xf6\\xe9\\xe5H~\\xc9\\x08\\x8f\\xebzs$\\xedC\\xac\\xa3+c\\x1e\\x0f\\x83Bo6GR\\x8a7\\x1d\\xc9Y\\x0f\\xf6\\xe0\\xc3\\xa5\\xb4A\\xb9\\x90\\x01\\x99\\xc7\\xbc\\xf5zz\\xe4Ij\\x0e\\xac\\x1a\\x9a#\\xb5\\x91\\x97h\\x8dp\\xd1\\x9c\\xe1\\xb2\\xbe\\xae\\xd4\\x1cj\\xe8yn\\x94bQc\\xb0\\x1e8>B\\xa9J\\xae\\x17\\x0f]\\xa99|l4\\xa0(\\xb2\\x8a7SU\\xd9\\xeaJ\\xcd\\x99\\xbb\\xc3\\x95\\x9a\\xc3W39\\x8b\\x16Y7\\x82(\\\\3\\xd8\\xcf\\xae\\xd4\\x9c\\xf3\\xb2Lfj\\xce\\xc1}Ws\\x12\\x02\\xef\\xa7\\xb3\\x14\\x0bV\\xba\\xbd\\x02a\\xcb%\\xaf\\x02I\\x8d\\xb9\\xbezYV*\\x04e\\x97\\xa1\\x13h\\x1c\\xd3\\x00h\\x8b8Wj\\x0e\\xe5D;\\x97{[\\x80M\\x00V2C\\xca\\x98(.\\xdbmK\\xcdIw\\xaaKj\\xa5It\\x90\\x81-5gNL\\xd73\\xad\\x99\\xaf\\xc9\\xf2q\\xd3-5\\'|\\xdbRsl\\xe7\\xdf\\xde\\xa2\\xb9Rsh\\xcfQ\\xae\\xec\\xecL\\xcd\\x01\\x93\\xd2F-d\\r\\xad\\xd0\\xfb\\xd4\\x9c\\xad6x\\x99;\\x8b\\xb5\\xc9j\\xc4OSs\\xd6z\\xe92\\xde\\xe8v\\x92\\xfb\\xe8\\xe7\\x1c\\xf9\\x9a\\x92+1\\xe7\\xb8$:i\\x8c\\xcf\\xc2\\x06\\xbe\\xa9\\xd7Y\\xf5\\xa4.\\xe3\\xf6J\\xcc\\t\\xfb\\xa7#\\xadS=\\x86{\\x90\\xde\\xb9\\xba\\xdbe(\\xac\\xc4\\x1crX\\xd2\\x9b\\xb1erQ\\x9a\\x8e+\\r\\xba\\x92/\\xe8\\x9e\\x98\\x03\\xa3\\x16+\\xe6\\x9a\\xd2\\xd1(\\x97\\xc1\\xd3\\xc4\\x1c\\x00\\x9f\\'\\xe6\\xa0\\xc5B\\xf6\\xb3\\xe9\\xcceN\\xca\\x95\\x98S\\xf98q\\x9c/\\xe3RaQi\\x84\\xf6W$g,S\\xc1\\x12sh\\xa4rE\\xc0\\x0c\\xe6\\x9d}\\xed\\x0eXe\\x96\\x98\\x03\\xfc\\xce\\x0bJ\\xcc9\\xd7J\\xc9l\\xb1\\x05M\\x0b47R\\xfb\\xe2\\xf5T\\xfbJ\\xcc\\xe1\\xd6x\\xae[\\xff\\x81\\x96w8\\x04e@\\xac_\\xdc\\xb9\\'\\xe6`;\\xe3\\xbew\\xf2\\xc5\\xfb\\x83\\xbb\\x1aDe\\xbb\\x8a\\xed\\x17\\xc7b\\xc1\\xacR\\xb6\\x1f\\xb6_4\\x8b/($l\\x05\\xa8.\\r\\\\\\x899ui }4\\xf1.\\xec\\x96F+\\xbd\\xa6\\xeb5\\xfb=1\\xc7F\\x15\\xf1\\x81N\\xddm\\xb2\\xe3#\\x19\\xfbd\\xf0C\":\\xc5\\xf5Vr\\xb4Pu\\xd7~\\xc8\\xcd\\x8fz\\xcb\\xf2\\xe6\\xf7\\x899\\xe8k\\xce\\xab\\xaf|\\x83D\\xbb\\xd2:\\x90\\xb4u\\xb6\\x02\\x11\\x0f\\x899\\xe4\\xec\\xc2w\\xb4\\xb9\\tS\\t\\n\\x14\\xaf\\xa6\\xf5\\x92SR-\\x01\\xb2\\x9aQ\\xd1\\xa5\\x122\\xda0\\xf0\\x95\\x98\\x93/\\xed\\xa3%\\xbf\\xad\\x11# Ya6\\x99r\\xed\\xb1g<M\\xcc\\xd9\\xde\\xfe\\xe6\\x87\\xcd\\xa8\\'\\x0faS\\xe2\\xdbE\\xed\\xf2\\xad\\xf6\\xc4\\x9cK\\xa6\\x91\\xd4\\xc5\\x1a\\xf4tR\\x1a\\x9f\\xb5\\xaew\\xdb(\\x9f Od\\x90\\xa2\\n@\\xd4\\xceT\\xa8\\t6\\xda\\xc2}</\\tm\\x899\\xb6B>$\\xe6\\x9c\\xd3f<\\xd0\\x8fm#\\xb4\\xc4\\x9c\\x99Mv\\xb1\\xc8L\\x0f\\x9cn\\xb6\\xb4\\xb6\\xd0\\x92\\x9f\\xbc\\x19T\\x92\\xa7\\x9c\\x1c\\x14\\xe7\\x9d\\xb3\\xca]\\x08*\\xd2\\xe87\\x99\\x0eMM\\x98\\x899\\x99\\xa1\\x92\\x0f\\x899\\xe8?\\xd9\\x90\\xd3b\\xe6\\xe6l\\xb4\\xcb\\xd9\\xd1\\xf9I\\xde\\xfc\\xcf\\x964\\xa1\\xb6V\\xf8\\xfeA\\x8b\\x97-?\\x9f\\xbe\\xb4\\xc4\\x1ck\\xe1J\\xcc1\\x95\\xe5\\xe0\\xa8\\xf2\\x9a\\x16z\\xb3\\xa2\\xea8\\x13s.\\x11)\\x86p%\\xe6\\x9c\\xdfp\\x04e_\\x10Vd\\xe9J\\xcc\\xd1\\x8b\\xf0t\\xee\\x0fn\\xa8\\x8c#\\x91\\x13:K\\xec\\xdf\\x9d1\\xabb\\x15\\xfd\\xbeV\\xd6@E\\x9f\\x81\\xe6\\x1d\\xe7\\xa5]\\xecg\\xa1B&L\\xcd\\x17\\xea\\xc1\\x1a\\x1c\\x0ec\\x04h\\xbfq\\xde,1\\'_\\xc8A\\xb9\\xff\\x1fPK\\x01\\x023\\x00-\\x00\\x00\\x00\\x08\\x00L\\x0b5O\\xf4?\\xf3\\x97\\xff\\xff\\xff\\xff\\xff\\xff\\xff\\xff\\x11\\x00\\x14\\x00\\x00\\x00\\x00\\x00\\x00\\x00\\x00\\x00\\x00\\x00\\x00\\x00\\x00\\x00concrete_data.csv\\x01\\x00\\x10\\x00\\x82\\xe6\\x00\\x00\\x00\\x00\\x00\\x00\\xa7+\\x00\\x00\\x00\\x00\\x00\\x00PK\\x05\\x06\\x00\\x00\\x00\\x00\\x01\\x00\\x01\\x00S\\x00\\x00\\x00\\xea+\\x00\\x00\\x00\\x00'}"
            ]
          },
          "metadata": {},
          "execution_count": 5
        }
      ]
    },
    {
      "cell_type": "code",
      "source": [
        "#Run only when using housing data used for the NAM paper\n",
        "!unzip housing2.zip"
      ],
      "metadata": {
        "colab": {
          "base_uri": "https://localhost:8080/"
        },
        "id": "zCQXF_8LoWqk",
        "outputId": "b82c2239-8d69-46d0-f7bb-b298e0c6236a"
      },
      "execution_count": 6,
      "outputs": [
        {
          "output_type": "stream",
          "name": "stdout",
          "text": [
            "unzip:  cannot find or open housing2.zip, housing2.zip.zip or housing2.zip.ZIP.\n"
          ]
        }
      ]
    },
    {
      "cell_type": "code",
      "source": [
        "!unzip /content/google-research/neural_additive_models/archive.zip -d /content/google-research/neural_additive_models/data"
      ],
      "metadata": {
        "colab": {
          "base_uri": "https://localhost:8080/"
        },
        "id": "mA6JXOgdOvSb",
        "outputId": "8417defb-6a9f-41f7-e434-be68a6075a11"
      },
      "execution_count": 8,
      "outputs": [
        {
          "output_type": "stream",
          "name": "stdout",
          "text": [
            "Archive:  /content/google-research/neural_additive_models/archive.zip\n",
            "  inflating: /content/google-research/neural_additive_models/data/concrete_data.csv  \n"
          ]
        }
      ]
    },
    {
      "cell_type": "code",
      "source": [
        "#@title Imports\n",
        "\n",
        "import tensorflow.compat.v2 as tf\n",
        "tf.enable_v2_behavior()\n",
        "import importlib\n",
        "\n",
        "import data_utils\n",
        "import models as nam_models\n",
        "import graph_builder\n",
        "import os.path as osp\n",
        "import numpy as np\n",
        "import nam_train\n",
        "\n",
        "import matplotlib.pyplot as plt"
      ],
      "metadata": {
        "id": "g3VvQcebdV-d"
      },
      "execution_count": 9,
      "outputs": []
    },
    {
      "cell_type": "code",
      "source": [
        "import pandas as pd\n",
        "\n",
        "# Load dataset\n",
        "data_set = pd.read_csv('/content/google-research/neural_additive_models/data/concrete_data.csv')"
      ],
      "metadata": {
        "id": "6Y_JXSO2885X"
      },
      "execution_count": 36,
      "outputs": []
    },
    {
      "cell_type": "code",
      "source": [
        "# Separate features and target\n",
        "X = data_set.iloc[:, :8]  # Features\n",
        "y = data_set.iloc[:, 8]   # Target"
      ],
      "metadata": {
        "id": "-RHbt6Rs_Hx9"
      },
      "execution_count": 37,
      "outputs": []
    },
    {
      "cell_type": "code",
      "source": [
        "data_x, column_names = data_utils.transform_data(X)\n",
        "data_x = data_x.astype('float32')\n",
        "data_y = y.astype('float32')\n",
        "data_y = np.array(data_y)\n",
        "ins_data = (data_x, data_y, column_names)\n",
        "is_regression = True"
      ],
      "metadata": {
        "id": "COA5H67RSfmH"
      },
      "execution_count": 38,
      "outputs": []
    },
    {
      "cell_type": "code",
      "source": [
        "(x_train_all, y_train_all), test_dataset = data_utils.get_train_test_fold(\n",
        "      data_x, data_y, fold_num=1, num_folds=5, stratified=not is_regression)\n",
        "data_gen = data_utils.split_training_dataset(\n",
        "      x_train_all, y_train_all,\n",
        "      n_splits=5, stratified=not is_regression)\n",
        "(x_train, y_train), _ = next(data_gen)"
      ],
      "metadata": {
        "id": "Bc4xjRvI3uqN"
      },
      "execution_count": 40,
      "outputs": []
    },
    {
      "cell_type": "code",
      "source": [
        "# Modifying the models.py file to set the model attribute to include layers after being built\n",
        "from google.colab import files\n",
        "files.view('models.py')"
      ],
      "metadata": {
        "colab": {
          "base_uri": "https://localhost:8080/",
          "height": 17
        },
        "id": "JhAIQyKTnWOy",
        "outputId": "b608f48a-591f-43dc-f128-ce135b64ae22"
      },
      "execution_count": 41,
      "outputs": [
        {
          "output_type": "display_data",
          "data": {
            "text/plain": [
              "<IPython.core.display.Javascript object>"
            ],
            "application/javascript": [
              "\n",
              "      ((filepath) => {{\n",
              "        if (!google.colab.kernel.accessAllowed) {{\n",
              "          return;\n",
              "        }}\n",
              "        google.colab.files.view(filepath);\n",
              "      }})(\"/content/google-research/neural_additive_models/models.py\")"
            ]
          },
          "metadata": {}
        }
      ]
    },
    {
      "cell_type": "code",
      "source": [
        "#Reload the import to reflect the changes\n",
        "importlib.reload(nam_models)"
      ],
      "metadata": {
        "colab": {
          "base_uri": "https://localhost:8080/"
        },
        "id": "XDdk-jayN30z",
        "outputId": "c0d1d426-5c50-45a9-f84f-5294970bc84e"
      },
      "execution_count": 17,
      "outputs": [
        {
          "output_type": "execute_result",
          "data": {
            "text/plain": [
              "<module 'models' from '/content/google-research/neural_additive_models/models.py'>"
            ]
          },
          "metadata": {},
          "execution_count": 17
        }
      ]
    },
    {
      "cell_type": "code",
      "source": [
        "#@title Create NAM model\n",
        "\n",
        "tf.compat.v1.reset_default_graph()\n",
        "nn_model = graph_builder.create_nam_model(\n",
        "    x_train=x_train,\n",
        "    dropout=0.0,\n",
        "    num_basis_functions=32,\n",
        "    activation='relu',\n",
        "    trainable=True,\n",
        "    shallow=False,\n",
        "    name_scope='model_0')\n",
        "\n",
        "_ = nn_model(x_train[:1])\n",
        "nn_model.summary()"
      ],
      "metadata": {
        "colab": {
          "base_uri": "https://localhost:8080/",
          "height": 385
        },
        "id": "TZ3eJurw_cgU",
        "outputId": "2f4edc28-72f0-46d1-d32b-ad5055ef521c"
      },
      "execution_count": 44,
      "outputs": [
        {
          "output_type": "display_data",
          "data": {
            "text/plain": [
              "\u001b[1mModel: \"nam_5\"\u001b[0m\n"
            ],
            "text/html": [
              "<pre style=\"white-space:pre;overflow-x:auto;line-height:normal;font-family:Menlo,'DejaVu Sans Mono',consolas,'Courier New',monospace\"><span style=\"font-weight: bold\">Model: \"nam_5\"</span>\n",
              "</pre>\n"
            ]
          },
          "metadata": {}
        },
        {
          "output_type": "display_data",
          "data": {
            "text/plain": [
              "┏━━━━━━━━━━━━━━━━━━━━━━━━━━━━━━━━━━━━━━┳━━━━━━━━━━━━━━━━━━━━━━━━━━━━━┳━━━━━━━━━━━━━━━━━┓\n",
              "┃\u001b[1m \u001b[0m\u001b[1mLayer (type)                        \u001b[0m\u001b[1m \u001b[0m┃\u001b[1m \u001b[0m\u001b[1mOutput Shape               \u001b[0m\u001b[1m \u001b[0m┃\u001b[1m \u001b[0m\u001b[1m        Param #\u001b[0m\u001b[1m \u001b[0m┃\n",
              "┡━━━━━━━━━━━━━━━━━━━━━━━━━━━━━━━━━━━━━━╇━━━━━━━━━━━━━━━━━━━━━━━━━━━━━╇━━━━━━━━━━━━━━━━━┩\n",
              "│ feature_nn_24 (\u001b[38;5;33mFeatureNN\u001b[0m)            │ ?                           │           \u001b[38;5;34m4,288\u001b[0m │\n",
              "├──────────────────────────────────────┼─────────────────────────────┼─────────────────┤\n",
              "│ feature_nn_25 (\u001b[38;5;33mFeatureNN\u001b[0m)            │ ?                           │           \u001b[38;5;34m4,288\u001b[0m │\n",
              "├──────────────────────────────────────┼─────────────────────────────┼─────────────────┤\n",
              "│ feature_nn_26 (\u001b[38;5;33mFeatureNN\u001b[0m)            │ ?                           │           \u001b[38;5;34m4,288\u001b[0m │\n",
              "├──────────────────────────────────────┼─────────────────────────────┼─────────────────┤\n",
              "│ feature_nn_27 (\u001b[38;5;33mFeatureNN\u001b[0m)            │ ?                           │           \u001b[38;5;34m4,288\u001b[0m │\n",
              "├──────────────────────────────────────┼─────────────────────────────┼─────────────────┤\n",
              "│ feature_nn_28 (\u001b[38;5;33mFeatureNN\u001b[0m)            │ ?                           │           \u001b[38;5;34m4,288\u001b[0m │\n",
              "├──────────────────────────────────────┼─────────────────────────────┼─────────────────┤\n",
              "│ feature_nn_29 (\u001b[38;5;33mFeatureNN\u001b[0m)            │ ?                           │           \u001b[38;5;34m4,288\u001b[0m │\n",
              "├──────────────────────────────────────┼─────────────────────────────┼─────────────────┤\n",
              "│ feature_nn_30 (\u001b[38;5;33mFeatureNN\u001b[0m)            │ ?                           │           \u001b[38;5;34m4,288\u001b[0m │\n",
              "├──────────────────────────────────────┼─────────────────────────────┼─────────────────┤\n",
              "│ feature_nn_31 (\u001b[38;5;33mFeatureNN\u001b[0m)            │ ?                           │           \u001b[38;5;34m4,024\u001b[0m │\n",
              "└──────────────────────────────────────┴─────────────────────────────┴─────────────────┘\n"
            ],
            "text/html": [
              "<pre style=\"white-space:pre;overflow-x:auto;line-height:normal;font-family:Menlo,'DejaVu Sans Mono',consolas,'Courier New',monospace\">┏━━━━━━━━━━━━━━━━━━━━━━━━━━━━━━━━━━━━━━┳━━━━━━━━━━━━━━━━━━━━━━━━━━━━━┳━━━━━━━━━━━━━━━━━┓\n",
              "┃<span style=\"font-weight: bold\"> Layer (type)                         </span>┃<span style=\"font-weight: bold\"> Output Shape                </span>┃<span style=\"font-weight: bold\">         Param # </span>┃\n",
              "┡━━━━━━━━━━━━━━━━━━━━━━━━━━━━━━━━━━━━━━╇━━━━━━━━━━━━━━━━━━━━━━━━━━━━━╇━━━━━━━━━━━━━━━━━┩\n",
              "│ feature_nn_24 (<span style=\"color: #0087ff; text-decoration-color: #0087ff\">FeatureNN</span>)            │ ?                           │           <span style=\"color: #00af00; text-decoration-color: #00af00\">4,288</span> │\n",
              "├──────────────────────────────────────┼─────────────────────────────┼─────────────────┤\n",
              "│ feature_nn_25 (<span style=\"color: #0087ff; text-decoration-color: #0087ff\">FeatureNN</span>)            │ ?                           │           <span style=\"color: #00af00; text-decoration-color: #00af00\">4,288</span> │\n",
              "├──────────────────────────────────────┼─────────────────────────────┼─────────────────┤\n",
              "│ feature_nn_26 (<span style=\"color: #0087ff; text-decoration-color: #0087ff\">FeatureNN</span>)            │ ?                           │           <span style=\"color: #00af00; text-decoration-color: #00af00\">4,288</span> │\n",
              "├──────────────────────────────────────┼─────────────────────────────┼─────────────────┤\n",
              "│ feature_nn_27 (<span style=\"color: #0087ff; text-decoration-color: #0087ff\">FeatureNN</span>)            │ ?                           │           <span style=\"color: #00af00; text-decoration-color: #00af00\">4,288</span> │\n",
              "├──────────────────────────────────────┼─────────────────────────────┼─────────────────┤\n",
              "│ feature_nn_28 (<span style=\"color: #0087ff; text-decoration-color: #0087ff\">FeatureNN</span>)            │ ?                           │           <span style=\"color: #00af00; text-decoration-color: #00af00\">4,288</span> │\n",
              "├──────────────────────────────────────┼─────────────────────────────┼─────────────────┤\n",
              "│ feature_nn_29 (<span style=\"color: #0087ff; text-decoration-color: #0087ff\">FeatureNN</span>)            │ ?                           │           <span style=\"color: #00af00; text-decoration-color: #00af00\">4,288</span> │\n",
              "├──────────────────────────────────────┼─────────────────────────────┼─────────────────┤\n",
              "│ feature_nn_30 (<span style=\"color: #0087ff; text-decoration-color: #0087ff\">FeatureNN</span>)            │ ?                           │           <span style=\"color: #00af00; text-decoration-color: #00af00\">4,288</span> │\n",
              "├──────────────────────────────────────┼─────────────────────────────┼─────────────────┤\n",
              "│ feature_nn_31 (<span style=\"color: #0087ff; text-decoration-color: #0087ff\">FeatureNN</span>)            │ ?                           │           <span style=\"color: #00af00; text-decoration-color: #00af00\">4,024</span> │\n",
              "└──────────────────────────────────────┴─────────────────────────────┴─────────────────┘\n",
              "</pre>\n"
            ]
          },
          "metadata": {}
        },
        {
          "output_type": "display_data",
          "data": {
            "text/plain": [
              "\u001b[1m Total params: \u001b[0m\u001b[38;5;34m34,041\u001b[0m (132.97 KB)\n"
            ],
            "text/html": [
              "<pre style=\"white-space:pre;overflow-x:auto;line-height:normal;font-family:Menlo,'DejaVu Sans Mono',consolas,'Courier New',monospace\"><span style=\"font-weight: bold\"> Total params: </span><span style=\"color: #00af00; text-decoration-color: #00af00\">34,041</span> (132.97 KB)\n",
              "</pre>\n"
            ]
          },
          "metadata": {}
        },
        {
          "output_type": "display_data",
          "data": {
            "text/plain": [
              "\u001b[1m Trainable params: \u001b[0m\u001b[38;5;34m34,041\u001b[0m (132.97 KB)\n"
            ],
            "text/html": [
              "<pre style=\"white-space:pre;overflow-x:auto;line-height:normal;font-family:Menlo,'DejaVu Sans Mono',consolas,'Courier New',monospace\"><span style=\"font-weight: bold\"> Trainable params: </span><span style=\"color: #00af00; text-decoration-color: #00af00\">34,041</span> (132.97 KB)\n",
              "</pre>\n"
            ]
          },
          "metadata": {}
        },
        {
          "output_type": "display_data",
          "data": {
            "text/plain": [
              "\u001b[1m Non-trainable params: \u001b[0m\u001b[38;5;34m0\u001b[0m (0.00 B)\n"
            ],
            "text/html": [
              "<pre style=\"white-space:pre;overflow-x:auto;line-height:normal;font-family:Menlo,'DejaVu Sans Mono',consolas,'Courier New',monospace\"><span style=\"font-weight: bold\"> Non-trainable params: </span><span style=\"color: #00af00; text-decoration-color: #00af00\">0</span> (0.00 B)\n",
              "</pre>\n"
            ]
          },
          "metadata": {}
        }
      ]
    },
    {
      "cell_type": "code",
      "source": [
        "#Compile the model to be trained\n",
        "nn_model.compile(\n",
        "    optimizer=tf.keras.optimizers.Adam(learning_rate=0.001),\n",
        "    loss='mse',  # Mean squared error (or another loss depending on your task)\n",
        "    metrics=['mae']\n",
        ")"
      ],
      "metadata": {
        "id": "ySj-j5iTea5J"
      },
      "execution_count": 45,
      "outputs": []
    },
    {
      "cell_type": "code",
      "source": [
        "# Train the NAM Model with interminient checking for accuracy\n",
        "from tensorflow.keras.callbacks import EarlyStopping\n",
        "early_stopping = EarlyStopping(\n",
        "    monitor='val_loss',  # Or 'val_accuracy' depending on your metric\n",
        "    patience=5,  # Number of epochs to wait for improvement\n",
        "    restore_best_weights=True\n",
        ")\n",
        "\n",
        "history = nn_model.fit(\n",
        "    x_train,\n",
        "    y_train,\n",
        "    epochs=50,\n",
        "    batch_size=32,\n",
        "    callbacks=[early_stopping]\n",
        ")"
      ],
      "metadata": {
        "colab": {
          "base_uri": "https://localhost:8080/"
        },
        "id": "icZVQmSdftCP",
        "outputId": "e2263cd5-5b63-459a-dc70-408d68d55326"
      },
      "execution_count": 46,
      "outputs": [
        {
          "output_type": "stream",
          "name": "stdout",
          "text": [
            "Epoch 1/50\n",
            "\u001b[1m23/23\u001b[0m \u001b[32m━━━━━━━━━━━━━━━━━━━━\u001b[0m\u001b[37m\u001b[0m \u001b[1m14s\u001b[0m 10ms/step - loss: 1551.9653 - mae: 35.4936\n",
            "Epoch 2/50\n",
            "\u001b[1m23/23\u001b[0m \u001b[32m━━━━━━━━━━━━━━━━━━━━\u001b[0m\u001b[37m\u001b[0m \u001b[1m0s\u001b[0m 8ms/step - loss: 1111.9568 - mae: 28.8813\n",
            "Epoch 3/50\n",
            "\u001b[1m23/23\u001b[0m \u001b[32m━━━━━━━━━━━━━━━━━━━━\u001b[0m\u001b[37m\u001b[0m \u001b[1m0s\u001b[0m 9ms/step - loss: 644.8366 - mae: 20.0662\n",
            "Epoch 4/50\n",
            "\u001b[1m23/23\u001b[0m \u001b[32m━━━━━━━━━━━━━━━━━━━━\u001b[0m\u001b[37m\u001b[0m \u001b[1m0s\u001b[0m 8ms/step - loss: 305.8288 - mae: 13.8166\n",
            "Epoch 5/50\n",
            "\u001b[1m23/23\u001b[0m \u001b[32m━━━━━━━━━━━━━━━━━━━━\u001b[0m\u001b[37m\u001b[0m \u001b[1m0s\u001b[0m 8ms/step - loss: 265.6307 - mae: 13.0297\n",
            "Epoch 6/50\n",
            "\u001b[1m23/23\u001b[0m \u001b[32m━━━━━━━━━━━━━━━━━━━━\u001b[0m\u001b[37m\u001b[0m \u001b[1m0s\u001b[0m 8ms/step - loss: 288.7920 - mae: 13.5457\n",
            "Epoch 7/50\n",
            "\u001b[1m23/23\u001b[0m \u001b[32m━━━━━━━━━━━━━━━━━━━━\u001b[0m\u001b[37m\u001b[0m \u001b[1m0s\u001b[0m 9ms/step - loss: 231.2100 - mae: 12.1741\n",
            "Epoch 8/50\n",
            "\u001b[1m23/23\u001b[0m \u001b[32m━━━━━━━━━━━━━━━━━━━━\u001b[0m\u001b[37m\u001b[0m \u001b[1m0s\u001b[0m 8ms/step - loss: 215.9129 - mae: 11.8291\n",
            "Epoch 9/50\n",
            "\u001b[1m23/23\u001b[0m \u001b[32m━━━━━━━━━━━━━━━━━━━━\u001b[0m\u001b[37m\u001b[0m \u001b[1m0s\u001b[0m 14ms/step - loss: 167.5989 - mae: 10.5113\n",
            "Epoch 10/50\n",
            "\u001b[1m23/23\u001b[0m \u001b[32m━━━━━━━━━━━━━━━━━━━━\u001b[0m\u001b[37m\u001b[0m \u001b[1m1s\u001b[0m 16ms/step - loss: 162.5378 - mae: 10.1120\n",
            "Epoch 11/50\n",
            "\u001b[1m23/23\u001b[0m \u001b[32m━━━━━━━━━━━━━━━━━━━━\u001b[0m\u001b[37m\u001b[0m \u001b[1m1s\u001b[0m 17ms/step - loss: 148.0658 - mae: 9.9070\n",
            "Epoch 12/50\n",
            "\u001b[1m23/23\u001b[0m \u001b[32m━━━━━━━━━━━━━━━━━━━━\u001b[0m\u001b[37m\u001b[0m \u001b[1m0s\u001b[0m 14ms/step - loss: 132.1987 - mae: 9.2272\n",
            "Epoch 13/50\n",
            "\u001b[1m23/23\u001b[0m \u001b[32m━━━━━━━━━━━━━━━━━━━━\u001b[0m\u001b[37m\u001b[0m \u001b[1m1s\u001b[0m 19ms/step - loss: 130.5165 - mae: 9.3497\n",
            "Epoch 14/50\n",
            "\u001b[1m23/23\u001b[0m \u001b[32m━━━━━━━━━━━━━━━━━━━━\u001b[0m\u001b[37m\u001b[0m \u001b[1m1s\u001b[0m 19ms/step - loss: 108.7890 - mae: 8.3945\n",
            "Epoch 15/50\n",
            "\u001b[1m23/23\u001b[0m \u001b[32m━━━━━━━━━━━━━━━━━━━━\u001b[0m\u001b[37m\u001b[0m \u001b[1m0s\u001b[0m 15ms/step - loss: 102.8810 - mae: 8.1478\n",
            "Epoch 16/50\n",
            "\u001b[1m23/23\u001b[0m \u001b[32m━━━━━━━━━━━━━━━━━━━━\u001b[0m\u001b[37m\u001b[0m \u001b[1m1s\u001b[0m 13ms/step - loss: 94.2742 - mae: 7.7587\n",
            "Epoch 17/50\n",
            "\u001b[1m23/23\u001b[0m \u001b[32m━━━━━━━━━━━━━━━━━━━━\u001b[0m\u001b[37m\u001b[0m \u001b[1m1s\u001b[0m 9ms/step - loss: 72.4546 - mae: 6.8101\n",
            "Epoch 18/50\n",
            "\u001b[1m23/23\u001b[0m \u001b[32m━━━━━━━━━━━━━━━━━━━━\u001b[0m\u001b[37m\u001b[0m \u001b[1m0s\u001b[0m 9ms/step - loss: 80.4192 - mae: 7.0849\n",
            "Epoch 19/50\n",
            "\u001b[1m23/23\u001b[0m \u001b[32m━━━━━━━━━━━━━━━━━━━━\u001b[0m\u001b[37m\u001b[0m \u001b[1m0s\u001b[0m 11ms/step - loss: 74.9495 - mae: 6.7604\n",
            "Epoch 20/50\n",
            "\u001b[1m23/23\u001b[0m \u001b[32m━━━━━━━━━━━━━━━━━━━━\u001b[0m\u001b[37m\u001b[0m \u001b[1m0s\u001b[0m 9ms/step - loss: 59.9565 - mae: 6.0739\n",
            "Epoch 21/50\n",
            "\u001b[1m23/23\u001b[0m \u001b[32m━━━━━━━━━━━━━━━━━━━━\u001b[0m\u001b[37m\u001b[0m \u001b[1m0s\u001b[0m 9ms/step - loss: 64.2015 - mae: 6.1547\n",
            "Epoch 22/50\n",
            "\u001b[1m23/23\u001b[0m \u001b[32m━━━━━━━━━━━━━━━━━━━━\u001b[0m\u001b[37m\u001b[0m \u001b[1m0s\u001b[0m 10ms/step - loss: 55.4856 - mae: 5.8268\n",
            "Epoch 23/50\n",
            "\u001b[1m23/23\u001b[0m \u001b[32m━━━━━━━━━━━━━━━━━━━━\u001b[0m\u001b[37m\u001b[0m \u001b[1m0s\u001b[0m 11ms/step - loss: 54.9239 - mae: 5.7506\n",
            "Epoch 24/50\n",
            "\u001b[1m23/23\u001b[0m \u001b[32m━━━━━━━━━━━━━━━━━━━━\u001b[0m\u001b[37m\u001b[0m \u001b[1m0s\u001b[0m 8ms/step - loss: 46.0533 - mae: 5.2057\n",
            "Epoch 25/50\n",
            "\u001b[1m23/23\u001b[0m \u001b[32m━━━━━━━━━━━━━━━━━━━━\u001b[0m\u001b[37m\u001b[0m \u001b[1m0s\u001b[0m 9ms/step - loss: 46.5696 - mae: 5.3132\n",
            "Epoch 26/50\n",
            "\u001b[1m23/23\u001b[0m \u001b[32m━━━━━━━━━━━━━━━━━━━━\u001b[0m\u001b[37m\u001b[0m \u001b[1m0s\u001b[0m 11ms/step - loss: 45.4196 - mae: 5.2518\n",
            "Epoch 27/50\n",
            "\u001b[1m23/23\u001b[0m \u001b[32m━━━━━━━━━━━━━━━━━━━━\u001b[0m\u001b[37m\u001b[0m \u001b[1m0s\u001b[0m 9ms/step - loss: 46.4548 - mae: 5.2858\n",
            "Epoch 28/50\n",
            "\u001b[1m23/23\u001b[0m \u001b[32m━━━━━━━━━━━━━━━━━━━━\u001b[0m\u001b[37m\u001b[0m \u001b[1m0s\u001b[0m 9ms/step - loss: 39.2144 - mae: 4.8718\n",
            "Epoch 29/50\n",
            "\u001b[1m23/23\u001b[0m \u001b[32m━━━━━━━━━━━━━━━━━━━━\u001b[0m\u001b[37m\u001b[0m \u001b[1m0s\u001b[0m 9ms/step - loss: 41.7527 - mae: 5.0040\n",
            "Epoch 30/50\n",
            "\u001b[1m23/23\u001b[0m \u001b[32m━━━━━━━━━━━━━━━━━━━━\u001b[0m\u001b[37m\u001b[0m \u001b[1m0s\u001b[0m 10ms/step - loss: 39.7516 - mae: 4.8877\n",
            "Epoch 31/50\n",
            "\u001b[1m23/23\u001b[0m \u001b[32m━━━━━━━━━━━━━━━━━━━━\u001b[0m\u001b[37m\u001b[0m \u001b[1m0s\u001b[0m 9ms/step - loss: 43.7386 - mae: 5.1838\n",
            "Epoch 32/50\n",
            "\u001b[1m23/23\u001b[0m \u001b[32m━━━━━━━━━━━━━━━━━━━━\u001b[0m\u001b[37m\u001b[0m \u001b[1m0s\u001b[0m 9ms/step - loss: 41.5865 - mae: 5.0639\n",
            "Epoch 33/50\n",
            "\u001b[1m23/23\u001b[0m \u001b[32m━━━━━━━━━━━━━━━━━━━━\u001b[0m\u001b[37m\u001b[0m \u001b[1m0s\u001b[0m 9ms/step - loss: 43.2146 - mae: 5.1599 \n",
            "Epoch 34/50\n",
            "\u001b[1m23/23\u001b[0m \u001b[32m━━━━━━━━━━━━━━━━━━━━\u001b[0m\u001b[37m\u001b[0m \u001b[1m0s\u001b[0m 7ms/step - loss: 45.8147 - mae: 5.2624\n",
            "Epoch 35/50\n",
            "\u001b[1m23/23\u001b[0m \u001b[32m━━━━━━━━━━━━━━━━━━━━\u001b[0m\u001b[37m\u001b[0m \u001b[1m0s\u001b[0m 7ms/step - loss: 42.4781 - mae: 5.0996\n",
            "Epoch 36/50\n",
            "\u001b[1m23/23\u001b[0m \u001b[32m━━━━━━━━━━━━━━━━━━━━\u001b[0m\u001b[37m\u001b[0m \u001b[1m0s\u001b[0m 7ms/step - loss: 43.4888 - mae: 5.1278\n",
            "Epoch 37/50\n",
            "\u001b[1m23/23\u001b[0m \u001b[32m━━━━━━━━━━━━━━━━━━━━\u001b[0m\u001b[37m\u001b[0m \u001b[1m0s\u001b[0m 7ms/step - loss: 38.9455 - mae: 4.8194\n",
            "Epoch 38/50\n",
            "\u001b[1m23/23\u001b[0m \u001b[32m━━━━━━━━━━━━━━━━━━━━\u001b[0m\u001b[37m\u001b[0m \u001b[1m0s\u001b[0m 9ms/step - loss: 43.5361 - mae: 5.1438 \n",
            "Epoch 39/50\n",
            "\u001b[1m23/23\u001b[0m \u001b[32m━━━━━━━━━━━━━━━━━━━━\u001b[0m\u001b[37m\u001b[0m \u001b[1m0s\u001b[0m 8ms/step - loss: 42.7895 - mae: 5.1068\n",
            "Epoch 40/50\n",
            "\u001b[1m23/23\u001b[0m \u001b[32m━━━━━━━━━━━━━━━━━━━━\u001b[0m\u001b[37m\u001b[0m \u001b[1m0s\u001b[0m 9ms/step - loss: 38.7510 - mae: 4.8921\n",
            "Epoch 41/50\n",
            "\u001b[1m23/23\u001b[0m \u001b[32m━━━━━━━━━━━━━━━━━━━━\u001b[0m\u001b[37m\u001b[0m \u001b[1m0s\u001b[0m 11ms/step - loss: 39.6427 - mae: 4.8757\n",
            "Epoch 42/50\n",
            "\u001b[1m23/23\u001b[0m \u001b[32m━━━━━━━━━━━━━━━━━━━━\u001b[0m\u001b[37m\u001b[0m \u001b[1m0s\u001b[0m 10ms/step - loss: 43.0640 - mae: 5.1894\n",
            "Epoch 43/50\n",
            "\u001b[1m23/23\u001b[0m \u001b[32m━━━━━━━━━━━━━━━━━━━━\u001b[0m\u001b[37m\u001b[0m \u001b[1m0s\u001b[0m 9ms/step - loss: 37.2897 - mae: 4.7470\n",
            "Epoch 44/50\n",
            "\u001b[1m23/23\u001b[0m \u001b[32m━━━━━━━━━━━━━━━━━━━━\u001b[0m\u001b[37m\u001b[0m \u001b[1m0s\u001b[0m 8ms/step - loss: 42.0969 - mae: 4.9375\n",
            "Epoch 45/50\n",
            "\u001b[1m23/23\u001b[0m \u001b[32m━━━━━━━━━━━━━━━━━━━━\u001b[0m\u001b[37m\u001b[0m \u001b[1m0s\u001b[0m 9ms/step - loss: 38.8352 - mae: 4.8027\n",
            "Epoch 46/50\n",
            "\u001b[1m23/23\u001b[0m \u001b[32m━━━━━━━━━━━━━━━━━━━━\u001b[0m\u001b[37m\u001b[0m \u001b[1m0s\u001b[0m 9ms/step - loss: 39.1286 - mae: 4.7383\n",
            "Epoch 47/50\n",
            "\u001b[1m23/23\u001b[0m \u001b[32m━━━━━━━━━━━━━━━━━━━━\u001b[0m\u001b[37m\u001b[0m \u001b[1m0s\u001b[0m 8ms/step - loss: 37.7126 - mae: 4.7082\n",
            "Epoch 48/50\n",
            "\u001b[1m23/23\u001b[0m \u001b[32m━━━━━━━━━━━━━━━━━━━━\u001b[0m\u001b[37m\u001b[0m \u001b[1m0s\u001b[0m 11ms/step - loss: 39.8881 - mae: 4.8211\n",
            "Epoch 49/50\n",
            "\u001b[1m23/23\u001b[0m \u001b[32m━━━━━━━━━━━━━━━━━━━━\u001b[0m\u001b[37m\u001b[0m \u001b[1m0s\u001b[0m 9ms/step - loss: 37.8376 - mae: 4.7965\n",
            "Epoch 50/50\n",
            "\u001b[1m23/23\u001b[0m \u001b[32m━━━━━━━━━━━━━━━━━━━━\u001b[0m\u001b[37m\u001b[0m \u001b[1m0s\u001b[0m 9ms/step - loss: 42.3498 - mae: 4.9878\n"
          ]
        }
      ]
    },
    {
      "cell_type": "code",
      "source": [
        "plt.plot(history.history['loss'], label='Training Loss')\n",
        "plt.xlabel('Epoch')\n",
        "plt.ylabel('Loss')\n",
        "plt.title('Training and Validation Loss over Epochs')\n",
        "plt.legend()\n",
        "plt.show()"
      ],
      "metadata": {
        "colab": {
          "base_uri": "https://localhost:8080/",
          "height": 472
        },
        "id": "QSsVx5ikIlv9",
        "outputId": "99588de0-a467-48dc-bf59-e1041e99b176"
      },
      "execution_count": 47,
      "outputs": [
        {
          "output_type": "display_data",
          "data": {
            "text/plain": [
              "<Figure size 640x480 with 1 Axes>"
            ],
            "image/png": "[encoded data removed]"
          },
          "metadata": {}
        }
      ]
    },
    {
      "cell_type": "code",
      "source": [
        "# Initialize CNN network via Keras\n",
        "from tensorflow.keras.models import Sequential\n",
        "from tensorflow.keras.layers import Conv1D, Flatten, Dense, Dropout\n",
        "from tensorflow.keras.optimizers import Adam\n",
        "\n",
        "model = Sequential([\n",
        "    Conv1D(32, kernel_size=2, activation='relu', input_shape=(8, 1)),\n",
        "    Dropout(0.2),\n",
        "    Conv1D(64, kernel_size=2, activation='relu'),\n",
        "    Flatten(),\n",
        "    Dense(64, activation='relu'),\n",
        "    Dense(1)  # Single output for regression\n",
        "])\n",
        "\n",
        "model.summary()"
      ],
      "metadata": {
        "colab": {
          "base_uri": "https://localhost:8080/",
          "height": 321
        },
        "id": "oCS_tpYaBXbz",
        "outputId": "c11743eb-e6b7-4cf9-857d-10468512b8c7"
      },
      "execution_count": 33,
      "outputs": [
        {
          "output_type": "display_data",
          "data": {
            "text/plain": [
              "\u001b[1mModel: \"sequential_2\"\u001b[0m\n"
            ],
            "text/html": [
              "<pre style=\"white-space:pre;overflow-x:auto;line-height:normal;font-family:Menlo,'DejaVu Sans Mono',consolas,'Courier New',monospace\"><span style=\"font-weight: bold\">Model: \"sequential_2\"</span>\n",
              "</pre>\n"
            ]
          },
          "metadata": {}
        },
        {
          "output_type": "display_data",
          "data": {
            "text/plain": [
              "┏━━━━━━━━━━━━━━━━━━━━━━━━━━━━━━━━━━━━━━┳━━━━━━━━━━━━━━━━━━━━━━━━━━━━━┳━━━━━━━━━━━━━━━━━┓\n",
              "┃\u001b[1m \u001b[0m\u001b[1mLayer (type)                        \u001b[0m\u001b[1m \u001b[0m┃\u001b[1m \u001b[0m\u001b[1mOutput Shape               \u001b[0m\u001b[1m \u001b[0m┃\u001b[1m \u001b[0m\u001b[1m        Param #\u001b[0m\u001b[1m \u001b[0m┃\n",
              "┡━━━━━━━━━━━━━━━━━━━━━━━━━━━━━━━━━━━━━━╇━━━━━━━━━━━━━━━━━━━━━━━━━━━━━╇━━━━━━━━━━━━━━━━━┩\n",
              "│ conv1d_4 (\u001b[38;5;33mConv1D\u001b[0m)                    │ (\u001b[38;5;45mNone\u001b[0m, \u001b[38;5;34m7\u001b[0m, \u001b[38;5;34m32\u001b[0m)               │              \u001b[38;5;34m96\u001b[0m │\n",
              "├──────────────────────────────────────┼─────────────────────────────┼─────────────────┤\n",
              "│ dropout_2 (\u001b[38;5;33mDropout\u001b[0m)                  │ (\u001b[38;5;45mNone\u001b[0m, \u001b[38;5;34m7\u001b[0m, \u001b[38;5;34m32\u001b[0m)               │               \u001b[38;5;34m0\u001b[0m │\n",
              "├──────────────────────────────────────┼─────────────────────────────┼─────────────────┤\n",
              "│ conv1d_5 (\u001b[38;5;33mConv1D\u001b[0m)                    │ (\u001b[38;5;45mNone\u001b[0m, \u001b[38;5;34m6\u001b[0m, \u001b[38;5;34m64\u001b[0m)               │           \u001b[38;5;34m4,160\u001b[0m │\n",
              "├──────────────────────────────────────┼─────────────────────────────┼─────────────────┤\n",
              "│ flatten_2 (\u001b[38;5;33mFlatten\u001b[0m)                  │ (\u001b[38;5;45mNone\u001b[0m, \u001b[38;5;34m384\u001b[0m)                 │               \u001b[38;5;34m0\u001b[0m │\n",
              "├──────────────────────────────────────┼─────────────────────────────┼─────────────────┤\n",
              "│ dense_4 (\u001b[38;5;33mDense\u001b[0m)                      │ (\u001b[38;5;45mNone\u001b[0m, \u001b[38;5;34m64\u001b[0m)                  │          \u001b[38;5;34m24,640\u001b[0m │\n",
              "├──────────────────────────────────────┼─────────────────────────────┼─────────────────┤\n",
              "│ dense_5 (\u001b[38;5;33mDense\u001b[0m)                      │ (\u001b[38;5;45mNone\u001b[0m, \u001b[38;5;34m1\u001b[0m)                   │              \u001b[38;5;34m65\u001b[0m │\n",
              "└──────────────────────────────────────┴─────────────────────────────┴─────────────────┘\n"
            ],
            "text/html": [
              "<pre style=\"white-space:pre;overflow-x:auto;line-height:normal;font-family:Menlo,'DejaVu Sans Mono',consolas,'Courier New',monospace\">┏━━━━━━━━━━━━━━━━━━━━━━━━━━━━━━━━━━━━━━┳━━━━━━━━━━━━━━━━━━━━━━━━━━━━━┳━━━━━━━━━━━━━━━━━┓\n",
              "┃<span style=\"font-weight: bold\"> Layer (type)                         </span>┃<span style=\"font-weight: bold\"> Output Shape                </span>┃<span style=\"font-weight: bold\">         Param # </span>┃\n",
              "┡━━━━━━━━━━━━━━━━━━━━━━━━━━━━━━━━━━━━━━╇━━━━━━━━━━━━━━━━━━━━━━━━━━━━━╇━━━━━━━━━━━━━━━━━┩\n",
              "│ conv1d_4 (<span style=\"color: #0087ff; text-decoration-color: #0087ff\">Conv1D</span>)                    │ (<span style=\"color: #00d7ff; text-decoration-color: #00d7ff\">None</span>, <span style=\"color: #00af00; text-decoration-color: #00af00\">7</span>, <span style=\"color: #00af00; text-decoration-color: #00af00\">32</span>)               │              <span style=\"color: #00af00; text-decoration-color: #00af00\">96</span> │\n",
              "├──────────────────────────────────────┼─────────────────────────────┼─────────────────┤\n",
              "│ dropout_2 (<span style=\"color: #0087ff; text-decoration-color: #0087ff\">Dropout</span>)                  │ (<span style=\"color: #00d7ff; text-decoration-color: #00d7ff\">None</span>, <span style=\"color: #00af00; text-decoration-color: #00af00\">7</span>, <span style=\"color: #00af00; text-decoration-color: #00af00\">32</span>)               │               <span style=\"color: #00af00; text-decoration-color: #00af00\">0</span> │\n",
              "├──────────────────────────────────────┼─────────────────────────────┼─────────────────┤\n",
              "│ conv1d_5 (<span style=\"color: #0087ff; text-decoration-color: #0087ff\">Conv1D</span>)                    │ (<span style=\"color: #00d7ff; text-decoration-color: #00d7ff\">None</span>, <span style=\"color: #00af00; text-decoration-color: #00af00\">6</span>, <span style=\"color: #00af00; text-decoration-color: #00af00\">64</span>)               │           <span style=\"color: #00af00; text-decoration-color: #00af00\">4,160</span> │\n",
              "├──────────────────────────────────────┼─────────────────────────────┼─────────────────┤\n",
              "│ flatten_2 (<span style=\"color: #0087ff; text-decoration-color: #0087ff\">Flatten</span>)                  │ (<span style=\"color: #00d7ff; text-decoration-color: #00d7ff\">None</span>, <span style=\"color: #00af00; text-decoration-color: #00af00\">384</span>)                 │               <span style=\"color: #00af00; text-decoration-color: #00af00\">0</span> │\n",
              "├──────────────────────────────────────┼─────────────────────────────┼─────────────────┤\n",
              "│ dense_4 (<span style=\"color: #0087ff; text-decoration-color: #0087ff\">Dense</span>)                      │ (<span style=\"color: #00d7ff; text-decoration-color: #00d7ff\">None</span>, <span style=\"color: #00af00; text-decoration-color: #00af00\">64</span>)                  │          <span style=\"color: #00af00; text-decoration-color: #00af00\">24,640</span> │\n",
              "├──────────────────────────────────────┼─────────────────────────────┼─────────────────┤\n",
              "│ dense_5 (<span style=\"color: #0087ff; text-decoration-color: #0087ff\">Dense</span>)                      │ (<span style=\"color: #00d7ff; text-decoration-color: #00d7ff\">None</span>, <span style=\"color: #00af00; text-decoration-color: #00af00\">1</span>)                   │              <span style=\"color: #00af00; text-decoration-color: #00af00\">65</span> │\n",
              "└──────────────────────────────────────┴─────────────────────────────┴─────────────────┘\n",
              "</pre>\n"
            ]
          },
          "metadata": {}
        },
        {
          "output_type": "display_data",
          "data": {
            "text/plain": [
              "\u001b[1m Total params: \u001b[0m\u001b[38;5;34m28,961\u001b[0m (113.13 KB)\n"
            ],
            "text/html": [
              "<pre style=\"white-space:pre;overflow-x:auto;line-height:normal;font-family:Menlo,'DejaVu Sans Mono',consolas,'Courier New',monospace\"><span style=\"font-weight: bold\"> Total params: </span><span style=\"color: #00af00; text-decoration-color: #00af00\">28,961</span> (113.13 KB)\n",
              "</pre>\n"
            ]
          },
          "metadata": {}
        },
        {
          "output_type": "display_data",
          "data": {
            "text/plain": [
              "\u001b[1m Trainable params: \u001b[0m\u001b[38;5;34m28,961\u001b[0m (113.13 KB)\n"
            ],
            "text/html": [
              "<pre style=\"white-space:pre;overflow-x:auto;line-height:normal;font-family:Menlo,'DejaVu Sans Mono',consolas,'Courier New',monospace\"><span style=\"font-weight: bold\"> Trainable params: </span><span style=\"color: #00af00; text-decoration-color: #00af00\">28,961</span> (113.13 KB)\n",
              "</pre>\n"
            ]
          },
          "metadata": {}
        },
        {
          "output_type": "display_data",
          "data": {
            "text/plain": [
              "\u001b[1m Non-trainable params: \u001b[0m\u001b[38;5;34m0\u001b[0m (0.00 B)\n"
            ],
            "text/html": [
              "<pre style=\"white-space:pre;overflow-x:auto;line-height:normal;font-family:Menlo,'DejaVu Sans Mono',consolas,'Courier New',monospace\"><span style=\"font-weight: bold\"> Non-trainable params: </span><span style=\"color: #00af00; text-decoration-color: #00af00\">0</span> (0.00 B)\n",
              "</pre>\n"
            ]
          },
          "metadata": {}
        }
      ]
    },
    {
      "cell_type": "code",
      "source": [
        "# Compile the model\n",
        "model.compile(optimizer=Adam(learning_rate=0.001), loss='mse')\n",
        "x_train = x_train.reshape((721, 8, 1))\n"
      ],
      "metadata": {
        "id": "wWuhZrArDS94"
      },
      "execution_count": 28,
      "outputs": []
    },
    {
      "cell_type": "code",
      "source": [
        "#Train the CNN Model\n",
        "history = model.fit(x_train, y_train, epochs=50, batch_size=32, verbose=1)"
      ],
      "metadata": {
        "colab": {
          "base_uri": "https://localhost:8080/"
        },
        "id": "A9Fz4DiZEa4y",
        "outputId": "549f9f9f-05a0-4a69-c33f-89177887a9cd"
      },
      "execution_count": 29,
      "outputs": [
        {
          "output_type": "stream",
          "name": "stdout",
          "text": [
            "Epoch 1/50\n",
            "\u001b[1m23/23\u001b[0m \u001b[32m━━━━━━━━━━━━━━━━━━━━\u001b[0m\u001b[37m\u001b[0m \u001b[1m2s\u001b[0m 5ms/step - loss: 1444.6946\n",
            "Epoch 2/50\n",
            "\u001b[1m23/23\u001b[0m \u001b[32m━━━━━━━━━━━━━━━━━━━━\u001b[0m\u001b[37m\u001b[0m \u001b[1m0s\u001b[0m 3ms/step - loss: 996.6008 \n",
            "Epoch 3/50\n",
            "\u001b[1m23/23\u001b[0m \u001b[32m━━━━━━━━━━━━━━━━━━━━\u001b[0m\u001b[37m\u001b[0m \u001b[1m0s\u001b[0m 3ms/step - loss: 349.0425\n",
            "Epoch 4/50\n",
            "\u001b[1m23/23\u001b[0m \u001b[32m━━━━━━━━━━━━━━━━━━━━\u001b[0m\u001b[37m\u001b[0m \u001b[1m0s\u001b[0m 3ms/step - loss: 340.8108\n",
            "Epoch 5/50\n",
            "\u001b[1m23/23\u001b[0m \u001b[32m━━━━━━━━━━━━━━━━━━━━\u001b[0m\u001b[37m\u001b[0m \u001b[1m0s\u001b[0m 4ms/step - loss: 331.4262\n",
            "Epoch 6/50\n",
            "\u001b[1m23/23\u001b[0m \u001b[32m━━━━━━━━━━━━━━━━━━━━\u001b[0m\u001b[37m\u001b[0m \u001b[1m0s\u001b[0m 3ms/step - loss: 288.3838\n",
            "Epoch 7/50\n",
            "\u001b[1m23/23\u001b[0m \u001b[32m━━━━━━━━━━━━━━━━━━━━\u001b[0m\u001b[37m\u001b[0m \u001b[1m0s\u001b[0m 3ms/step - loss: 265.9223\n",
            "Epoch 8/50\n",
            "\u001b[1m23/23\u001b[0m \u001b[32m━━━━━━━━━━━━━━━━━━━━\u001b[0m\u001b[37m\u001b[0m \u001b[1m0s\u001b[0m 3ms/step - loss: 253.0593\n",
            "Epoch 9/50\n",
            "\u001b[1m23/23\u001b[0m \u001b[32m━━━━━━━━━━━━━━━━━━━━\u001b[0m\u001b[37m\u001b[0m \u001b[1m0s\u001b[0m 5ms/step - loss: 236.4930\n",
            "Epoch 10/50\n",
            "\u001b[1m23/23\u001b[0m \u001b[32m━━━━━━━━━━━━━━━━━━━━\u001b[0m\u001b[37m\u001b[0m \u001b[1m0s\u001b[0m 6ms/step - loss: 216.7267\n",
            "Epoch 11/50\n",
            "\u001b[1m23/23\u001b[0m \u001b[32m━━━━━━━━━━━━━━━━━━━━\u001b[0m\u001b[37m\u001b[0m \u001b[1m0s\u001b[0m 5ms/step - loss: 203.2913\n",
            "Epoch 12/50\n",
            "\u001b[1m23/23\u001b[0m \u001b[32m━━━━━━━━━━━━━━━━━━━━\u001b[0m\u001b[37m\u001b[0m \u001b[1m0s\u001b[0m 5ms/step - loss: 188.0355\n",
            "Epoch 13/50\n",
            "\u001b[1m23/23\u001b[0m \u001b[32m━━━━━━━━━━━━━━━━━━━━\u001b[0m\u001b[37m\u001b[0m \u001b[1m0s\u001b[0m 4ms/step - loss: 176.0622\n",
            "Epoch 14/50\n",
            "\u001b[1m23/23\u001b[0m \u001b[32m━━━━━━━━━━━━━━━━━━━━\u001b[0m\u001b[37m\u001b[0m \u001b[1m0s\u001b[0m 6ms/step - loss: 172.6026\n",
            "Epoch 15/50\n",
            "\u001b[1m23/23\u001b[0m \u001b[32m━━━━━━━━━━━━━━━━━━━━\u001b[0m\u001b[37m\u001b[0m \u001b[1m0s\u001b[0m 6ms/step - loss: 174.0128\n",
            "Epoch 16/50\n",
            "\u001b[1m23/23\u001b[0m \u001b[32m━━━━━━━━━━━━━━━━━━━━\u001b[0m\u001b[37m\u001b[0m \u001b[1m0s\u001b[0m 5ms/step - loss: 159.6614\n",
            "Epoch 17/50\n",
            "\u001b[1m23/23\u001b[0m \u001b[32m━━━━━━━━━━━━━━━━━━━━\u001b[0m\u001b[37m\u001b[0m \u001b[1m0s\u001b[0m 6ms/step - loss: 158.2753\n",
            "Epoch 18/50\n",
            "\u001b[1m23/23\u001b[0m \u001b[32m━━━━━━━━━━━━━━━━━━━━\u001b[0m\u001b[37m\u001b[0m \u001b[1m0s\u001b[0m 8ms/step - loss: 159.6721\n",
            "Epoch 19/50\n",
            "\u001b[1m23/23\u001b[0m \u001b[32m━━━━━━━━━━━━━━━━━━━━\u001b[0m\u001b[37m\u001b[0m \u001b[1m0s\u001b[0m 5ms/step - loss: 153.2878\n",
            "Epoch 20/50\n",
            "\u001b[1m23/23\u001b[0m \u001b[32m━━━━━━━━━━━━━━━━━━━━\u001b[0m\u001b[37m\u001b[0m \u001b[1m0s\u001b[0m 3ms/step - loss: 158.8630\n",
            "Epoch 21/50\n",
            "\u001b[1m23/23\u001b[0m \u001b[32m━━━━━━━━━━━━━━━━━━━━\u001b[0m\u001b[37m\u001b[0m \u001b[1m0s\u001b[0m 3ms/step - loss: 152.9224\n",
            "Epoch 22/50\n",
            "\u001b[1m23/23\u001b[0m \u001b[32m━━━━━━━━━━━━━━━━━━━━\u001b[0m\u001b[37m\u001b[0m \u001b[1m0s\u001b[0m 3ms/step - loss: 147.5182\n",
            "Epoch 23/50\n",
            "\u001b[1m23/23\u001b[0m \u001b[32m━━━━━━━━━━━━━━━━━━━━\u001b[0m\u001b[37m\u001b[0m \u001b[1m0s\u001b[0m 4ms/step - loss: 136.9701\n",
            "Epoch 24/50\n",
            "\u001b[1m23/23\u001b[0m \u001b[32m━━━━━━━━━━━━━━━━━━━━\u001b[0m\u001b[37m\u001b[0m \u001b[1m0s\u001b[0m 4ms/step - loss: 150.0715\n",
            "Epoch 25/50\n",
            "\u001b[1m23/23\u001b[0m \u001b[32m━━━━━━━━━━━━━━━━━━━━\u001b[0m\u001b[37m\u001b[0m \u001b[1m0s\u001b[0m 3ms/step - loss: 141.8748\n",
            "Epoch 26/50\n",
            "\u001b[1m23/23\u001b[0m \u001b[32m━━━━━━━━━━━━━━━━━━━━\u001b[0m\u001b[37m\u001b[0m \u001b[1m0s\u001b[0m 3ms/step - loss: 137.1207\n",
            "Epoch 27/50\n",
            "\u001b[1m23/23\u001b[0m \u001b[32m━━━━━━━━━━━━━━━━━━━━\u001b[0m\u001b[37m\u001b[0m \u001b[1m0s\u001b[0m 3ms/step - loss: 129.5216\n",
            "Epoch 28/50\n",
            "\u001b[1m23/23\u001b[0m \u001b[32m━━━━━━━━━━━━━━━━━━━━\u001b[0m\u001b[37m\u001b[0m \u001b[1m0s\u001b[0m 3ms/step - loss: 136.6859\n",
            "Epoch 29/50\n",
            "\u001b[1m23/23\u001b[0m \u001b[32m━━━━━━━━━━━━━━━━━━━━\u001b[0m\u001b[37m\u001b[0m \u001b[1m0s\u001b[0m 3ms/step - loss: 143.7775\n",
            "Epoch 30/50\n",
            "\u001b[1m23/23\u001b[0m \u001b[32m━━━━━━━━━━━━━━━━━━━━\u001b[0m\u001b[37m\u001b[0m \u001b[1m0s\u001b[0m 3ms/step - loss: 128.5824\n",
            "Epoch 31/50\n",
            "\u001b[1m23/23\u001b[0m \u001b[32m━━━━━━━━━━━━━━━━━━━━\u001b[0m\u001b[37m\u001b[0m \u001b[1m0s\u001b[0m 4ms/step - loss: 146.8013\n",
            "Epoch 32/50\n",
            "\u001b[1m23/23\u001b[0m \u001b[32m━━━━━━━━━━━━━━━━━━━━\u001b[0m\u001b[37m\u001b[0m \u001b[1m0s\u001b[0m 3ms/step - loss: 130.0782\n",
            "Epoch 33/50\n",
            "\u001b[1m23/23\u001b[0m \u001b[32m━━━━━━━━━━━━━━━━━━━━\u001b[0m\u001b[37m\u001b[0m \u001b[1m0s\u001b[0m 4ms/step - loss: 123.7231\n",
            "Epoch 34/50\n",
            "\u001b[1m23/23\u001b[0m \u001b[32m━━━━━━━━━━━━━━━━━━━━\u001b[0m\u001b[37m\u001b[0m \u001b[1m0s\u001b[0m 3ms/step - loss: 126.1265\n",
            "Epoch 35/50\n",
            "\u001b[1m23/23\u001b[0m \u001b[32m━━━━━━━━━━━━━━━━━━━━\u001b[0m\u001b[37m\u001b[0m \u001b[1m0s\u001b[0m 5ms/step - loss: 116.6762\n",
            "Epoch 36/50\n",
            "\u001b[1m23/23\u001b[0m \u001b[32m━━━━━━━━━━━━━━━━━━━━\u001b[0m\u001b[37m\u001b[0m \u001b[1m0s\u001b[0m 8ms/step - loss: 124.0228\n",
            "Epoch 37/50\n",
            "\u001b[1m23/23\u001b[0m \u001b[32m━━━━━━━━━━━━━━━━━━━━\u001b[0m\u001b[37m\u001b[0m \u001b[1m0s\u001b[0m 7ms/step - loss: 128.9218\n",
            "Epoch 38/50\n",
            "\u001b[1m23/23\u001b[0m \u001b[32m━━━━━━━━━━━━━━━━━━━━\u001b[0m\u001b[37m\u001b[0m \u001b[1m0s\u001b[0m 7ms/step - loss: 132.3080\n",
            "Epoch 39/50\n",
            "\u001b[1m23/23\u001b[0m \u001b[32m━━━━━━━━━━━━━━━━━━━━\u001b[0m\u001b[37m\u001b[0m \u001b[1m0s\u001b[0m 6ms/step - loss: 120.5149\n",
            "Epoch 40/50\n",
            "\u001b[1m23/23\u001b[0m \u001b[32m━━━━━━━━━━━━━━━━━━━━\u001b[0m\u001b[37m\u001b[0m \u001b[1m0s\u001b[0m 3ms/step - loss: 118.8354\n",
            "Epoch 41/50\n",
            "\u001b[1m23/23\u001b[0m \u001b[32m━━━━━━━━━━━━━━━━━━━━\u001b[0m\u001b[37m\u001b[0m \u001b[1m0s\u001b[0m 4ms/step - loss: 129.7651\n",
            "Epoch 42/50\n",
            "\u001b[1m23/23\u001b[0m \u001b[32m━━━━━━━━━━━━━━━━━━━━\u001b[0m\u001b[37m\u001b[0m \u001b[1m0s\u001b[0m 4ms/step - loss: 117.2062\n",
            "Epoch 43/50\n",
            "\u001b[1m23/23\u001b[0m \u001b[32m━━━━━━━━━━━━━━━━━━━━\u001b[0m\u001b[37m\u001b[0m \u001b[1m0s\u001b[0m 4ms/step - loss: 113.5754\n",
            "Epoch 44/50\n",
            "\u001b[1m23/23\u001b[0m \u001b[32m━━━━━━━━━━━━━━━━━━━━\u001b[0m\u001b[37m\u001b[0m \u001b[1m0s\u001b[0m 4ms/step - loss: 114.3913\n",
            "Epoch 45/50\n",
            "\u001b[1m23/23\u001b[0m \u001b[32m━━━━━━━━━━━━━━━━━━━━\u001b[0m\u001b[37m\u001b[0m \u001b[1m0s\u001b[0m 4ms/step - loss: 121.1608\n",
            "Epoch 46/50\n",
            "\u001b[1m23/23\u001b[0m \u001b[32m━━━━━━━━━━━━━━━━━━━━\u001b[0m\u001b[37m\u001b[0m \u001b[1m0s\u001b[0m 4ms/step - loss: 119.8260\n",
            "Epoch 47/50\n",
            "\u001b[1m23/23\u001b[0m \u001b[32m━━━━━━━━━━━━━━━━━━━━\u001b[0m\u001b[37m\u001b[0m \u001b[1m0s\u001b[0m 3ms/step - loss: 102.6968\n",
            "Epoch 48/50\n",
            "\u001b[1m23/23\u001b[0m \u001b[32m━━━━━━━━━━━━━━━━━━━━\u001b[0m\u001b[37m\u001b[0m \u001b[1m0s\u001b[0m 4ms/step - loss: 111.1326\n",
            "Epoch 49/50\n",
            "\u001b[1m23/23\u001b[0m \u001b[32m━━━━━━━━━━━━━━━━━━━━\u001b[0m\u001b[37m\u001b[0m \u001b[1m0s\u001b[0m 5ms/step - loss: 108.6106\n",
            "Epoch 50/50\n",
            "\u001b[1m23/23\u001b[0m \u001b[32m━━━━━━━━━━━━━━━━━━━━\u001b[0m\u001b[37m\u001b[0m \u001b[1m0s\u001b[0m 4ms/step - loss: 108.6648\n"
          ]
        }
      ]
    },
    {
      "cell_type": "code",
      "source": [
        "plt.plot(history.history['loss'], label='Training Loss')\n",
        "plt.xlabel('Epoch')\n",
        "plt.ylabel('Loss')\n",
        "plt.title('Training and Validation Loss over Epochs')\n",
        "plt.legend()\n",
        "plt.show()"
      ],
      "metadata": {
        "colab": {
          "base_uri": "https://localhost:8080/",
          "height": 472
        },
        "id": "nGLpj81YHAES",
        "outputId": "c1ebfb31-5ba9-4392-f330-1426789a8a39"
      },
      "execution_count": 30,
      "outputs": [
        {
          "output_type": "display_data",
          "data": {
            "text/plain": [
              "<Figure size 640x480 with 1 Axes>"
            ],
            "image/png": "[encoded data removed]"
          },
          "metadata": {}
        }
      ]
    },
    {
      "cell_type": "code",
      "source": [
        " !pip freeze > requirements.txt"
      ],
      "metadata": {
        "id": "RDbxOcOiKGvC"
      },
      "execution_count": 31,
      "outputs": []
    },
    {
      "cell_type": "code",
      "source": [
        "files.view('requirements.txt')"
      ],
      "metadata": {
        "colab": {
          "base_uri": "https://localhost:8080/",
          "height": 17
        },
        "id": "fpiEL8rYKRmL",
        "outputId": "f773eb19-3efe-4b8a-d44a-495c692ef26f"
      },
      "execution_count": 32,
      "outputs": [
        {
          "output_type": "display_data",
          "data": {
            "text/plain": [
              "<IPython.core.display.Javascript object>"
            ],
            "application/javascript": [
              "\n",
              "      ((filepath) => {{\n",
              "        if (!google.colab.kernel.accessAllowed) {{\n",
              "          return;\n",
              "        }}\n",
              "        google.colab.files.view(filepath);\n",
              "      }})(\"/content/google-research/neural_additive_models/requirements.txt\")"
            ]
          },
          "metadata": {}
        }
      ]
    }
  ]
}